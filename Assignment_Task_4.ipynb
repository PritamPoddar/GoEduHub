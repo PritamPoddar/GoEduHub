{
  "nbformat": 4,
  "nbformat_minor": 0,
  "metadata": {
    "colab": {
      "name": "Assignment/Task 4.ipynb",
      "provenance": [],
      "collapsed_sections": [
        "_DWZQ_KHFSnH"
      ]
    },
    "kernelspec": {
      "name": "python3",
      "display_name": "Python 3"
    },
    "language_info": {
      "name": "python"
    }
  },
  "cells": [
    {
      "cell_type": "markdown",
      "metadata": {
        "id": "LG07f8eAeJf1"
      },
      "source": [
        "# Assignment/Task 4"
      ]
    },
    {
      "cell_type": "markdown",
      "metadata": {
        "id": "_DWZQ_KHFSnH"
      },
      "source": [
        "### Pritam Poddar \n",
        "GO_STP_55"
      ]
    },
    {
      "cell_type": "markdown",
      "metadata": {
        "id": "zhAh7QH7G7cV"
      },
      "source": [
        "## 1) Import the numpy package under the name np and Print the numpy version and the configuration"
      ]
    },
    {
      "cell_type": "code",
      "metadata": {
        "colab": {
          "base_uri": "https://localhost:8080/"
        },
        "id": "GSWYCkG4HK3b",
        "outputId": "23477026-5bee-49ac-d9c3-00eafb0737a6"
      },
      "source": [
        "import numpy as NP\n",
        "\n",
        "print(\"Numpy Version\")\n",
        "NP.__version__\n",
        "\n",
        "print(\"Numpy Configuration\")\n",
        "NP.show_config()"
      ],
      "execution_count": null,
      "outputs": [
        {
          "output_type": "stream",
          "text": [
            "Numpy Version\n",
            "Numpy Configuration\n",
            "blas_mkl_info:\n",
            "  NOT AVAILABLE\n",
            "blis_info:\n",
            "  NOT AVAILABLE\n",
            "openblas_info:\n",
            "    libraries = ['openblas', 'openblas']\n",
            "    library_dirs = ['/usr/local/lib']\n",
            "    language = c\n",
            "    define_macros = [('HAVE_CBLAS', None)]\n",
            "blas_opt_info:\n",
            "    libraries = ['openblas', 'openblas']\n",
            "    library_dirs = ['/usr/local/lib']\n",
            "    language = c\n",
            "    define_macros = [('HAVE_CBLAS', None)]\n",
            "lapack_mkl_info:\n",
            "  NOT AVAILABLE\n",
            "openblas_lapack_info:\n",
            "    libraries = ['openblas', 'openblas']\n",
            "    library_dirs = ['/usr/local/lib']\n",
            "    language = c\n",
            "    define_macros = [('HAVE_CBLAS', None)]\n",
            "lapack_opt_info:\n",
            "    libraries = ['openblas', 'openblas']\n",
            "    library_dirs = ['/usr/local/lib']\n",
            "    language = c\n",
            "    define_macros = [('HAVE_CBLAS', None)]\n"
          ],
          "name": "stdout"
        }
      ]
    },
    {
      "cell_type": "markdown",
      "metadata": {
        "id": "PIqfq5GVIFMw"
      },
      "source": [
        "## 2) Create a null vector of size 10"
      ]
    },
    {
      "cell_type": "code",
      "metadata": {
        "colab": {
          "base_uri": "https://localhost:8080/"
        },
        "id": "F_LU2cwjIU-k",
        "outputId": "5a513ea0-3074-4eab-e6a1-df4490c0bd11"
      },
      "source": [
        "Nv = NP.zeros(10)\n",
        "Nv"
      ],
      "execution_count": null,
      "outputs": [
        {
          "output_type": "execute_result",
          "data": {
            "text/plain": [
              "array([0., 0., 0., 0., 0., 0., 0., 0., 0., 0.])"
            ]
          },
          "metadata": {
            "tags": []
          },
          "execution_count": 16
        }
      ]
    },
    {
      "cell_type": "code",
      "metadata": {
        "colab": {
          "base_uri": "https://localhost:8080/"
        },
        "id": "AVFYyDBkKVbZ",
        "outputId": "8daa2b9a-331a-45fb-c90a-00ada56c26ac"
      },
      "source": [
        "# Creat One Vector of Size 5 \n",
        "N =NP.ones(5)\n",
        "N"
      ],
      "execution_count": null,
      "outputs": [
        {
          "output_type": "execute_result",
          "data": {
            "text/plain": [
              "array([1., 1., 1., 1., 1.])"
            ]
          },
          "metadata": {
            "tags": []
          },
          "execution_count": 17
        }
      ]
    },
    {
      "cell_type": "markdown",
      "metadata": {
        "id": "TWr01iMlIFPR"
      },
      "source": [
        "## 3) Create Simple 1-D array and check type and check data types in array"
      ]
    },
    {
      "cell_type": "code",
      "metadata": {
        "colab": {
          "base_uri": "https://localhost:8080/"
        },
        "id": "NrkO9JSmKSH4",
        "outputId": "357b3087-5ad9-40a4-f36c-d25fc3922547"
      },
      "source": [
        "D =NP.arange(1,11)\n",
        "D"
      ],
      "execution_count": null,
      "outputs": [
        {
          "output_type": "execute_result",
          "data": {
            "text/plain": [
              "array([ 1,  2,  3,  4,  5,  6,  7,  8,  9, 10])"
            ]
          },
          "metadata": {
            "tags": []
          },
          "execution_count": 21
        }
      ]
    },
    {
      "cell_type": "code",
      "metadata": {
        "colab": {
          "base_uri": "https://localhost:8080/"
        },
        "id": "yqoy_kobLAM6",
        "outputId": "b18b2be8-b34e-49ca-bc5e-19bb5280e982"
      },
      "source": [
        "# Check the Type\n",
        "type(D)"
      ],
      "execution_count": null,
      "outputs": [
        {
          "output_type": "execute_result",
          "data": {
            "text/plain": [
              "numpy.ndarray"
            ]
          },
          "metadata": {
            "tags": []
          },
          "execution_count": 23
        }
      ]
    },
    {
      "cell_type": "code",
      "metadata": {
        "colab": {
          "base_uri": "https://localhost:8080/"
        },
        "id": "UFXNZaIgLSZd",
        "outputId": "c3ee9f6f-c0e4-4a72-89ab-b5808b1ff953"
      },
      "source": [
        "# Chcek the Data Type\n",
        "D.dtype"
      ],
      "execution_count": null,
      "outputs": [
        {
          "output_type": "execute_result",
          "data": {
            "text/plain": [
              "dtype('int64')"
            ]
          },
          "metadata": {
            "tags": []
          },
          "execution_count": 25
        }
      ]
    },
    {
      "cell_type": "markdown",
      "metadata": {
        "id": "ztCIyQzLIFR-"
      },
      "source": [
        "## 4) How to find number of dimensions, bytes per element and bytes of memory used?"
      ]
    },
    {
      "cell_type": "code",
      "metadata": {
        "colab": {
          "base_uri": "https://localhost:8080/"
        },
        "id": "Te7-kjMjLyBb",
        "outputId": "58161122-6bb7-4d0a-df23-affddf43360c"
      },
      "source": [
        "print('Number of dimension : ',D.ndim) \n",
        "print('Bytes per element : ',D.itemsize) \n",
        "print('Bytes of memory used : ',D.size*D.itemsize)\n"
      ],
      "execution_count": null,
      "outputs": [
        {
          "output_type": "stream",
          "text": [
            "Number of dimension :  1\n",
            "Bytes per element :  8\n",
            "Bytes of memory used :  80\n"
          ],
          "name": "stdout"
        }
      ]
    },
    {
      "cell_type": "markdown",
      "metadata": {
        "id": "7nz5z-80LxCg"
      },
      "source": [
        "## 5) Create a null vector of size 10 but the fifth value which is 1"
      ]
    },
    {
      "cell_type": "code",
      "metadata": {
        "colab": {
          "base_uri": "https://localhost:8080/"
        },
        "id": "ZGMib9-yMYe5",
        "outputId": "f398879f-fdc7-4376-bb41-2dcc3d260a6e"
      },
      "source": [
        "N = NP.zeros(10)\n",
        "N[4]=1\n",
        "N"
      ],
      "execution_count": null,
      "outputs": [
        {
          "output_type": "execute_result",
          "data": {
            "text/plain": [
              "array([0., 0., 0., 0., 1., 0., 0., 0., 0., 0.])"
            ]
          },
          "metadata": {
            "tags": []
          },
          "execution_count": 28
        }
      ]
    },
    {
      "cell_type": "markdown",
      "metadata": {
        "id": "lavfajXBIFUU"
      },
      "source": [
        "## 6) Create a vector with values ranging from 10 to 49"
      ]
    },
    {
      "cell_type": "code",
      "metadata": {
        "colab": {
          "base_uri": "https://localhost:8080/"
        },
        "id": "o3s9izAzOPTT",
        "outputId": "b97b541e-5264-44c7-f031-740a728c920a"
      },
      "source": [
        "X = NP.arange(10,50)\n",
        "print(X)"
      ],
      "execution_count": null,
      "outputs": [
        {
          "output_type": "stream",
          "text": [
            "[10 11 12 13 14 15 16 17 18 19 20 21 22 23 24 25 26 27 28 29 30 31 32 33\n",
            " 34 35 36 37 38 39 40 41 42 43 44 45 46 47 48 49]\n"
          ],
          "name": "stdout"
        }
      ]
    },
    {
      "cell_type": "markdown",
      "metadata": {
        "id": "IPqGKkNPIFWr"
      },
      "source": [
        "## 7) Reverse a vector (first element becomes last)"
      ]
    },
    {
      "cell_type": "code",
      "metadata": {
        "colab": {
          "base_uri": "https://localhost:8080/"
        },
        "id": "9fUya3jiO9aW",
        "outputId": "832905a3-520b-41c6-f506-abe042082048"
      },
      "source": [
        "# Normal way (with out using NP Function)\n",
        "X = \"Pritam\"\n",
        "print(X[::-1])"
      ],
      "execution_count": null,
      "outputs": [
        {
          "output_type": "stream",
          "text": [
            "matirP\n"
          ],
          "name": "stdout"
        }
      ]
    },
    {
      "cell_type": "code",
      "metadata": {
        "colab": {
          "base_uri": "https://localhost:8080/"
        },
        "id": "3cBWimRIQb44",
        "outputId": "92db9c03-58ea-4caa-b492-13457b97d8d9"
      },
      "source": [
        "# By using Numpy\n",
        "Y = NP.arange(1,11)\n",
        "print(Y[::-1])"
      ],
      "execution_count": null,
      "outputs": [
        {
          "output_type": "stream",
          "text": [
            "[10  9  8  7  6  5  4  3  2  1]\n"
          ],
          "name": "stdout"
        }
      ]
    },
    {
      "cell_type": "markdown",
      "metadata": {
        "id": "gomQLycQIFZE"
      },
      "source": [
        "## 8) Create a 3x3 matrix with values ranging from 0 to 8"
      ]
    },
    {
      "cell_type": "code",
      "metadata": {
        "colab": {
          "base_uri": "https://localhost:8080/"
        },
        "id": "395xDW2VQ7gG",
        "outputId": "9aaf883d-fbd4-4c54-fc50-2ee40ca72934"
      },
      "source": [
        "X = NP.arange(1,10).reshape(3,3)\n",
        "X"
      ],
      "execution_count": null,
      "outputs": [
        {
          "output_type": "execute_result",
          "data": {
            "text/plain": [
              "array([[1, 2, 3],\n",
              "       [4, 5, 6],\n",
              "       [7, 8, 9]])"
            ]
          },
          "metadata": {
            "tags": []
          },
          "execution_count": 60
        }
      ]
    },
    {
      "cell_type": "markdown",
      "metadata": {
        "id": "925laFTAIFcn"
      },
      "source": [
        "## 9) Find indices of non-zero elements from [1,2,0,0,4,0]"
      ]
    },
    {
      "cell_type": "code",
      "metadata": {
        "colab": {
          "base_uri": "https://localhost:8080/"
        },
        "id": "1X21uXm5R_0h",
        "outputId": "2c99010d-1619-4c0a-ed02-75ba0712542a"
      },
      "source": [
        "X =NP.array([1,2,0,0,4,0])\n",
        "X.nonzero()"
      ],
      "execution_count": null,
      "outputs": [
        {
          "output_type": "execute_result",
          "data": {
            "text/plain": [
              "(array([0, 1, 4]),)"
            ]
          },
          "metadata": {
            "tags": []
          },
          "execution_count": 63
        }
      ]
    },
    {
      "cell_type": "markdown",
      "metadata": {
        "id": "vuKFJ_kxIFni"
      },
      "source": [
        "## 10) Create a 3x3 identity matrix\n"
      ]
    },
    {
      "cell_type": "code",
      "metadata": {
        "colab": {
          "base_uri": "https://localhost:8080/"
        },
        "id": "RZIK4mB_Vawm",
        "outputId": "6a644dd1-7960-4c32-af93-54387dbaad5d"
      },
      "source": [
        "X = NP.identity(3)\n",
        "X"
      ],
      "execution_count": null,
      "outputs": [
        {
          "output_type": "execute_result",
          "data": {
            "text/plain": [
              "array([[1., 0., 0.],\n",
              "       [0., 1., 0.],\n",
              "       [0., 0., 1.]])"
            ]
          },
          "metadata": {
            "tags": []
          },
          "execution_count": 70
        }
      ]
    },
    {
      "cell_type": "markdown",
      "metadata": {
        "id": "rHn3fr2VXtWE"
      },
      "source": [
        "## 11) Create a 3x3x3 array with random values"
      ]
    },
    {
      "cell_type": "code",
      "metadata": {
        "colab": {
          "base_uri": "https://localhost:8080/"
        },
        "id": "s8KFxX5nXtr1",
        "outputId": "42df0148-80ab-49f7-ac8f-4848503449aa"
      },
      "source": [
        "X = NP.random.random((3,3,3))\n",
        "X"
      ],
      "execution_count": null,
      "outputs": [
        {
          "output_type": "execute_result",
          "data": {
            "text/plain": [
              "array([[[0.5739887 , 0.04078397, 0.09557361],\n",
              "        [0.53174248, 0.69985895, 0.95504533],\n",
              "        [0.0190968 , 0.34494062, 0.62873778]],\n",
              "\n",
              "       [[0.77905201, 0.18594432, 0.09555533],\n",
              "        [0.01419706, 0.94124113, 0.31261647],\n",
              "        [0.01678954, 0.38414999, 0.98156459]],\n",
              "\n",
              "       [[0.79539817, 0.12879132, 0.29127797],\n",
              "        [0.97064608, 0.04863441, 0.34643437],\n",
              "        [0.0490158 , 0.63982751, 0.43131619]]])"
            ]
          },
          "metadata": {
            "tags": []
          },
          "execution_count": 74
        }
      ]
    },
    {
      "cell_type": "markdown",
      "metadata": {
        "id": "_ycez6DkaCzs"
      },
      "source": [
        "## 12) Create a 10x10 array with random values and find the minimum and maximum values"
      ]
    },
    {
      "cell_type": "code",
      "metadata": {
        "id": "r3jpOwsEaMC0",
        "colab": {
          "base_uri": "https://localhost:8080/"
        },
        "outputId": "97acf90c-4724-4510-94ac-349c675063de"
      },
      "source": [
        "import numpy as NP  \n",
        "X = NP.random.random((10,10))\n",
        "X\n",
        "\n",
        "# Max Value\n",
        "print(\"Max - \",X.max())\n",
        "# Or\n",
        "print(\"Max - \",NP.max(X))\n",
        "\n",
        "print(\"----------------\")\n",
        "\n",
        "# Min Value\n",
        "print(\"Min - \",X.min())\n",
        "# Or\n",
        "print(\"Min - \",NP.min(X))"
      ],
      "execution_count": null,
      "outputs": [
        {
          "output_type": "stream",
          "text": [
            "Max -  0.9953427301112101\n",
            "Max -  0.9953427301112101\n",
            "----------------\n",
            "Min -  0.0004897090024694739\n",
            "Min -  0.0004897090024694739\n"
          ],
          "name": "stdout"
        }
      ]
    },
    {
      "cell_type": "markdown",
      "metadata": {
        "id": "VfYYu9lMaC5W"
      },
      "source": [
        "# 13) Create a random vector of size 30 and find the mean value"
      ]
    },
    {
      "cell_type": "code",
      "metadata": {
        "colab": {
          "base_uri": "https://localhost:8080/"
        },
        "id": "8Oxv8jrcXq0Y",
        "outputId": "a0632030-ec77-4714-8e59-663900b2d2b6"
      },
      "source": [
        "X1 = NP.random.random(30)\n",
        "print(X1)\n",
        "print(\"Size - \",NP.size(X1))\n",
        "print(\"Shape - \",NP.shape(X1)) # 1D Array\n",
        "print(\"Mean - \",NP.mean(X1))"
      ],
      "execution_count": null,
      "outputs": [
        {
          "output_type": "stream",
          "text": [
            "[0.74575765 0.44844631 0.12736833 0.42261169 0.66103347 0.49435866\n",
            " 0.20102369 0.71964269 0.87371833 0.6080915  0.29187254 0.9359361\n",
            " 0.81042746 0.91772957 0.20448148 0.21214208 0.91025747 0.96979213\n",
            " 0.29497095 0.67782561 0.70288821 0.92392554 0.1268867  0.61699056\n",
            " 0.38138298 0.43050557 0.86283442 0.23571876 0.96860865 0.23401832]\n",
            "Size -  30\n",
            "Shape -  (30,)\n",
            "Mean -  0.5670415811234103\n"
          ],
          "name": "stdout"
        }
      ]
    },
    {
      "cell_type": "markdown",
      "metadata": {
        "id": "nYEgs635aC9J"
      },
      "source": [
        "# 14) Create a 2d array with 1 on the border and 0 inside"
      ]
    },
    {
      "cell_type": "code",
      "metadata": {
        "colab": {
          "base_uri": "https://localhost:8080/"
        },
        "id": "EJ5RRYX2YcNB",
        "outputId": "1ba52066-e5ca-4a23-baa7-0f99fe36ab92"
      },
      "source": [
        "X2 = NP.ones((5,5))\n",
        "print(\"Original Array - \")\n",
        "print(X2)\n",
        "\n",
        "print(\"Creating array with 1 on the border and 0 inside\")\n",
        "X2[1:4,1:-1] = 0\n",
        "print(X2)\n",
        "print(\"Size - \",NP.size(X2))\n",
        "print(\"Shape - \",NP.shape(X2))"
      ],
      "execution_count": null,
      "outputs": [
        {
          "output_type": "stream",
          "text": [
            "Original Array - \n",
            "[[1. 1. 1. 1. 1.]\n",
            " [1. 1. 1. 1. 1.]\n",
            " [1. 1. 1. 1. 1.]\n",
            " [1. 1. 1. 1. 1.]\n",
            " [1. 1. 1. 1. 1.]]\n",
            "Creating array with 1 on the border and 0 inside\n",
            "[[1. 1. 1. 1. 1.]\n",
            " [1. 0. 0. 0. 1.]\n",
            " [1. 0. 0. 0. 1.]\n",
            " [1. 0. 0. 0. 1.]\n",
            " [1. 1. 1. 1. 1.]]\n",
            "Size -  25\n",
            "Shape -  (5, 5)\n"
          ],
          "name": "stdout"
        }
      ]
    },
    {
      "cell_type": "markdown",
      "metadata": {
        "id": "XbD3-cYjaDAQ"
      },
      "source": [
        "# 15) How to add a border (filled with 0's) around an existing array? "
      ]
    },
    {
      "cell_type": "code",
      "metadata": {
        "colab": {
          "base_uri": "https://localhost:8080/"
        },
        "id": "YpalX811ZVKf",
        "outputId": "65855951-5e3f-4cf8-b8ea-4ce095bda288"
      },
      "source": [
        "print(\"Existing Array - \")\n",
        "print(X2)\n",
        "\n",
        "print(\"Fill with 0 around in Existing Array - \")\n",
        "X2[0:5,0:5] = 0\n",
        "X2[1:4,1:4] = 1\n",
        "print(X2)"
      ],
      "execution_count": null,
      "outputs": [
        {
          "output_type": "stream",
          "text": [
            "Existing Array - \n",
            "[[0. 0. 0. 0. 0.]\n",
            " [0. 0. 0. 0. 0.]\n",
            " [0. 0. 0. 0. 0.]\n",
            " [0. 0. 0. 0. 0.]\n",
            " [0. 0. 0. 0. 0.]]\n",
            "Fill with 0 around in Existing Array - \n",
            "[[0. 0. 0. 0. 0.]\n",
            " [0. 1. 1. 1. 0.]\n",
            " [0. 1. 1. 1. 0.]\n",
            " [0. 1. 1. 1. 0.]\n",
            " [0. 0. 0. 0. 0.]]\n"
          ],
          "name": "stdout"
        }
      ]
    },
    {
      "cell_type": "markdown",
      "metadata": {
        "id": "-edCLGNSaDDs"
      },
      "source": [
        "# 16) How to Accessing/Changing specific elements, rows, columns, etc in Numpy array?\n",
        "\n",
        "Example -\n",
        "[[ 1 2 3 4 5 6 7] [ 8 9 10 11 12 13 14]]\n",
        "\n",
        "Get 13, get first row only, get 3rd column only, get [2, 4, 6], replace 13 by 20"
      ]
    },
    {
      "cell_type": "code",
      "metadata": {
        "colab": {
          "base_uri": "https://localhost:8080/"
        },
        "id": "8jvY9H0-jgGU",
        "outputId": "8c4ba0fc-a3a9-4a27-80b9-71bd564f8687"
      },
      "source": [
        "X = NP.array([[1,2,3,4,5,6,7], [8,9,10,11,12,13,14]])\n",
        "\n",
        "print(\"Original - \")\n",
        "print(X)\n",
        "\n",
        "print(X[1,-2])\n",
        "print(X[0,1:6:2])\n",
        "X[1,-2] = 20\n",
        "\n",
        "print(\"After Changig  - \")\n",
        "print(X)"
      ],
      "execution_count": null,
      "outputs": [
        {
          "output_type": "stream",
          "text": [
            "Original - \n",
            "[[ 1  2  3  4  5  6  7]\n",
            " [ 8  9 10 11 12 13 14]]\n",
            "13\n",
            "[2 4 6]\n",
            "After Changig  - \n",
            "[[ 1  2  3  4  5  6  7]\n",
            " [ 8  9 10 11 12 20 14]]\n"
          ],
          "name": "stdout"
        }
      ]
    },
    {
      "cell_type": "markdown",
      "metadata": {
        "id": "hcRk3BOdaDG-"
      },
      "source": [
        "# 17) How to Convert a 1D array to a 2D array with 2 rows"
      ]
    },
    {
      "cell_type": "code",
      "metadata": {
        "colab": {
          "base_uri": "https://localhost:8080/"
        },
        "id": "IIbODsiDmCbQ",
        "outputId": "0c416ebe-ef3e-46a3-8d6a-719ca853d706"
      },
      "source": [
        "# Using Array\n",
        "B = NP.array([1,2,3,4,5,6])\n",
        "print(B)\n",
        "print(NP.shape(B))\n",
        "print(NP.size(B))\n",
        "\n",
        "# Reshape\n",
        "print(B.reshape(2,3))"
      ],
      "execution_count": null,
      "outputs": [
        {
          "output_type": "stream",
          "text": [
            "[1 2 3 4 5 6]\n",
            "(6,)\n",
            "6\n",
            "[[1 2 3]\n",
            " [4 5 6]]\n"
          ],
          "name": "stdout"
        }
      ]
    },
    {
      "cell_type": "code",
      "metadata": {
        "colab": {
          "base_uri": "https://localhost:8080/"
        },
        "id": "4eBN4ArPohp0",
        "outputId": "85956233-0261-4283-bd6e-5a8f7638c869"
      },
      "source": [
        "# Using Arange\n",
        "B = NP.arange(1,7)\n",
        "print(B)\n",
        "print(NP.shape(B))\n",
        "print(NP.size(B))\n",
        "\n",
        "# Reshape\n",
        "print(B.reshape(2,3))"
      ],
      "execution_count": null,
      "outputs": [
        {
          "output_type": "stream",
          "text": [
            "[1 2 3 4 5 6]\n",
            "(6,)\n",
            "6\n",
            "[[1 2 3]\n",
            " [4 5 6]]\n"
          ],
          "name": "stdout"
        }
      ]
    },
    {
      "cell_type": "markdown",
      "metadata": {
        "id": "KYLEBvEmaDKb"
      },
      "source": [
        "# 18) Create the following pattern without hardcoding. Use only numpy functions and the below input array a.\n",
        "### Input:\n",
        "####a = np.array([1,2,3])\n",
        "### Desired Output:\n",
        "\n",
        "#### array([1, 1, 1, 2, 2, 2, 3, 3, 3, 1, 2, 3, 1, 2, 3, 1, 2, 3])\n"
      ]
    },
    {
      "cell_type": "code",
      "metadata": {
        "colab": {
          "base_uri": "https://localhost:8080/"
        },
        "id": "uCPdDBHRpkXT",
        "outputId": "1027c85a-bdfe-4a9e-da54-a3c786d54886"
      },
      "source": [
        "A = NP.array([1,2,3])\n",
        "print(A)\n",
        "\n",
        "B = NP.append(NP.repeat(A,3),NP.tile(A,3))\n",
        "print(B)"
      ],
      "execution_count": null,
      "outputs": [
        {
          "output_type": "stream",
          "text": [
            "[1 2 3]\n",
            "[1 1 1 2 2 2 3 3 3 1 2 3 1 2 3 1 2 3]\n"
          ],
          "name": "stdout"
        }
      ]
    },
    {
      "cell_type": "markdown",
      "metadata": {
        "id": "H_XXi4g4aDNa"
      },
      "source": [
        "# 19) Write a program to show how Numpy taking less memory compared to Python List?"
      ]
    },
    {
      "cell_type": "code",
      "metadata": {
        "colab": {
          "base_uri": "https://localhost:8080/"
        },
        "id": "841C_KNpqLME",
        "outputId": "a2919823-3226-452b-e153-e8a6018c1e10"
      },
      "source": [
        "L = range(1000)\n",
        "\n",
        "import sys\n",
        "print(\"LIST\")\n",
        "A=10\n",
        "print(\"Memory per element : \",sys.getsizeof(A))   \n",
        "print(\"Memory taken by list : \",sys.getsizeof(A)*len(L))\n",
        "\n",
        "print(\"NUMPY ARRAY\")\n",
        "A1 = NP.arange(1000)\n",
        "print(\"Memory per element : \",A1.size)\n",
        "print(\"Memory taken by Numpy array : \",A1.size*A1.itemsize)"
      ],
      "execution_count": null,
      "outputs": [
        {
          "output_type": "stream",
          "text": [
            "LIST\n",
            "Memory per element :  28\n",
            "Memory taken by list :  28000\n",
            "NUMPY ARRAY\n",
            "Memory per element :  1000\n",
            "Memory taken by Numpy array :  8000\n"
          ],
          "name": "stdout"
        }
      ]
    },
    {
      "cell_type": "markdown",
      "metadata": {
        "id": "U2TjtJDEaDQj"
      },
      "source": [
        "# 20) Write a program to show how Numpy taking less time compared to Python List?"
      ]
    },
    {
      "cell_type": "code",
      "metadata": {
        "colab": {
          "base_uri": "https://localhost:8080/"
        },
        "id": "Pmx49tvJqmt9",
        "outputId": "26897399-9e4f-43ed-b9f5-3513a6bbf664"
      },
      "source": [
        "\n",
        "import numpy as np\n",
        "import time\n",
        "import sys\n",
        "\n",
        "size = 1000000\n",
        "l1 = range(size)\n",
        "l2 = range(size)\n",
        "n1 = np.arange(size)\n",
        "n2 = np.arange(size)\n",
        "start = time.time()\n",
        "result = [(x+y) for x,y in zip(l1,l2)]\n",
        "print(\"Time taken by Python List : \",(time.time()-start)*1000)\n",
        "\n",
        "start = time.time()\n",
        "result1 = n1+n2\n",
        "print(\"Time taken by NumPy Array : \",(time.time()-start)*1000)\n"
      ],
      "execution_count": null,
      "outputs": [
        {
          "output_type": "stream",
          "text": [
            "Time taken by Python List :  144.6704864501953\n",
            "Time taken by NumPy Array :  3.1888484954833984\n"
          ],
          "name": "stdout"
        }
      ]
    },
    {
      "cell_type": "code",
      "metadata": {
        "id": "99MmteyIrHbY"
      },
      "source": [
        ""
      ],
      "execution_count": null,
      "outputs": []
    }
  ]
}