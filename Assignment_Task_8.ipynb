{
  "nbformat": 4,
  "nbformat_minor": 0,
  "metadata": {
    "colab": {
      "name": "Assignment/Task 8",
      "provenance": [],
      "collapsed_sections": [],
      "toc_visible": true
    },
    "kernelspec": {
      "name": "python3",
      "display_name": "Python 3"
    },
    "language_info": {
      "name": "python"
    }
  },
  "cells": [
    {
      "cell_type": "markdown",
      "metadata": {
        "id": "m_3NXlowUVng"
      },
      "source": [
        "# Assignment/Task 8"
      ]
    },
    {
      "cell_type": "markdown",
      "metadata": {
        "id": "hxeiCYZ9Ua_n"
      },
      "source": [
        "### Pritam Poddar \n",
        "GO_STP_55"
      ]
    },
    {
      "cell_type": "markdown",
      "metadata": {
        "id": "tdwUBHg_UpR-"
      },
      "source": [
        "### Predicting a Startups Profit/Success Rate using Multiple Linear Regression in Python-Download Data Set click here.\n",
        "\n",
        "Here 50 startups dataset containing 5 columns  like “R&D Spend”, “Administration”, “Marketing Spend”, “State”, “Profit”."
      ]
    },
    {
      "cell_type": "markdown",
      "metadata": {
        "id": "Zzzl9dQzctu4"
      },
      "source": [
        "**Importing Requred Packages**"
      ]
    },
    {
      "cell_type": "code",
      "metadata": {
        "id": "8ZxRVxBXUuli"
      },
      "source": [
        "import numpy as NP\n",
        "import pandas as PD\n",
        "import matplotlib.pyplot as Plt\n",
        "\n",
        "import sklearn\n",
        "from sklearn.linear_model import LinearRegression"
      ],
      "execution_count": null,
      "outputs": []
    },
    {
      "cell_type": "code",
      "metadata": {
        "colab": {
          "base_uri": "https://localhost:8080/",
          "height": 206
        },
        "id": "SALjXnzrVHsO",
        "outputId": "1950efa5-507f-4af5-baa3-afd397e83340"
      },
      "source": [
        "Df = PD.read_csv(\"50_Startups.csv\")\n",
        "Df.head(5)"
      ],
      "execution_count": null,
      "outputs": [
        {
          "output_type": "execute_result",
          "data": {
            "text/html": [
              "<div>\n",
              "<style scoped>\n",
              "    .dataframe tbody tr th:only-of-type {\n",
              "        vertical-align: middle;\n",
              "    }\n",
              "\n",
              "    .dataframe tbody tr th {\n",
              "        vertical-align: top;\n",
              "    }\n",
              "\n",
              "    .dataframe thead th {\n",
              "        text-align: right;\n",
              "    }\n",
              "</style>\n",
              "<table border=\"1\" class=\"dataframe\">\n",
              "  <thead>\n",
              "    <tr style=\"text-align: right;\">\n",
              "      <th></th>\n",
              "      <th>R&amp;D Spend</th>\n",
              "      <th>Administration</th>\n",
              "      <th>Marketing Spend</th>\n",
              "      <th>State</th>\n",
              "      <th>Profit</th>\n",
              "    </tr>\n",
              "  </thead>\n",
              "  <tbody>\n",
              "    <tr>\n",
              "      <th>0</th>\n",
              "      <td>165349.20</td>\n",
              "      <td>136897.80</td>\n",
              "      <td>471784.10</td>\n",
              "      <td>New York</td>\n",
              "      <td>192261.83</td>\n",
              "    </tr>\n",
              "    <tr>\n",
              "      <th>1</th>\n",
              "      <td>162597.70</td>\n",
              "      <td>151377.59</td>\n",
              "      <td>443898.53</td>\n",
              "      <td>California</td>\n",
              "      <td>191792.06</td>\n",
              "    </tr>\n",
              "    <tr>\n",
              "      <th>2</th>\n",
              "      <td>153441.51</td>\n",
              "      <td>101145.55</td>\n",
              "      <td>407934.54</td>\n",
              "      <td>Florida</td>\n",
              "      <td>191050.39</td>\n",
              "    </tr>\n",
              "    <tr>\n",
              "      <th>3</th>\n",
              "      <td>144372.41</td>\n",
              "      <td>118671.85</td>\n",
              "      <td>383199.62</td>\n",
              "      <td>New York</td>\n",
              "      <td>182901.99</td>\n",
              "    </tr>\n",
              "    <tr>\n",
              "      <th>4</th>\n",
              "      <td>142107.34</td>\n",
              "      <td>91391.77</td>\n",
              "      <td>366168.42</td>\n",
              "      <td>Florida</td>\n",
              "      <td>166187.94</td>\n",
              "    </tr>\n",
              "  </tbody>\n",
              "</table>\n",
              "</div>"
            ],
            "text/plain": [
              "   R&D Spend  Administration  Marketing Spend       State     Profit\n",
              "0  165349.20       136897.80        471784.10    New York  192261.83\n",
              "1  162597.70       151377.59        443898.53  California  191792.06\n",
              "2  153441.51       101145.55        407934.54     Florida  191050.39\n",
              "3  144372.41       118671.85        383199.62    New York  182901.99\n",
              "4  142107.34        91391.77        366168.42     Florida  166187.94"
            ]
          },
          "metadata": {
            "tags": []
          },
          "execution_count": 52
        }
      ]
    },
    {
      "cell_type": "markdown",
      "metadata": {
        "id": "9AodYKMGc3Wm"
      },
      "source": [
        "**Understanding the Data/Exploring Data**"
      ]
    },
    {
      "cell_type": "code",
      "metadata": {
        "colab": {
          "base_uri": "https://localhost:8080/"
        },
        "id": "-NQLYvfqVyZ-",
        "outputId": "231e3b8e-b261-4835-b99c-17b04f5365da"
      },
      "source": [
        "# Number of Column and Row\n",
        "\n",
        "Df.shape"
      ],
      "execution_count": null,
      "outputs": [
        {
          "output_type": "execute_result",
          "data": {
            "text/plain": [
              "(50, 5)"
            ]
          },
          "metadata": {
            "tags": []
          },
          "execution_count": 53
        }
      ]
    },
    {
      "cell_type": "code",
      "metadata": {
        "colab": {
          "base_uri": "https://localhost:8080/"
        },
        "id": "miXJ0VqSWI5-",
        "outputId": "843f36d0-dfc7-4798-8d40-ab0d91c7f4f6"
      },
      "source": [
        "# Sizze of the Data\n",
        "\n",
        "Df.size"
      ],
      "execution_count": null,
      "outputs": [
        {
          "output_type": "execute_result",
          "data": {
            "text/plain": [
              "250"
            ]
          },
          "metadata": {
            "tags": []
          },
          "execution_count": 54
        }
      ]
    },
    {
      "cell_type": "code",
      "metadata": {
        "colab": {
          "base_uri": "https://localhost:8080/"
        },
        "id": "Vk3K_ZEgcSkK",
        "outputId": "f6e078de-917b-4d79-dbe0-8acf569afeae"
      },
      "source": [
        "# Memory taken by Data\n",
        "\n",
        "Df.memory_usage()"
      ],
      "execution_count": null,
      "outputs": [
        {
          "output_type": "execute_result",
          "data": {
            "text/plain": [
              "Index              128\n",
              "R&D Spend          400\n",
              "Administration     400\n",
              "Marketing Spend    400\n",
              "State              400\n",
              "Profit             400\n",
              "dtype: int64"
            ]
          },
          "metadata": {
            "tags": []
          },
          "execution_count": 55
        }
      ]
    },
    {
      "cell_type": "code",
      "metadata": {
        "colab": {
          "base_uri": "https://localhost:8080/"
        },
        "id": "dLWNN45TdD2t",
        "outputId": "6e12ea9b-cc4a-4139-eddd-b109718175f9"
      },
      "source": [
        "# Column Name\n",
        "\n",
        "Df.columns"
      ],
      "execution_count": null,
      "outputs": [
        {
          "output_type": "execute_result",
          "data": {
            "text/plain": [
              "Index(['R&D Spend', 'Administration', 'Marketing Spend', 'State', 'Profit'], dtype='object')"
            ]
          },
          "metadata": {
            "tags": []
          },
          "execution_count": 56
        }
      ]
    },
    {
      "cell_type": "code",
      "metadata": {
        "colab": {
          "base_uri": "https://localhost:8080/"
        },
        "id": "vw89YbzVdRJb",
        "outputId": "7cc7a1e7-ba50-4a5e-caa8-d2719920b210"
      },
      "source": [
        "# Data Type\n",
        "\n",
        "Df.dtypes"
      ],
      "execution_count": null,
      "outputs": [
        {
          "output_type": "execute_result",
          "data": {
            "text/plain": [
              "R&D Spend          float64\n",
              "Administration     float64\n",
              "Marketing Spend    float64\n",
              "State               object\n",
              "Profit             float64\n",
              "dtype: object"
            ]
          },
          "metadata": {
            "tags": []
          },
          "execution_count": 57
        }
      ]
    },
    {
      "cell_type": "code",
      "metadata": {
        "colab": {
          "base_uri": "https://localhost:8080/"
        },
        "id": "Tewy0QRbdbr6",
        "outputId": "d96ca2fd-16d3-4f68-95b9-c9004060274f"
      },
      "source": [
        "# Info about Data\n",
        "\n",
        "Df.info()"
      ],
      "execution_count": null,
      "outputs": [
        {
          "output_type": "stream",
          "text": [
            "<class 'pandas.core.frame.DataFrame'>\n",
            "RangeIndex: 50 entries, 0 to 49\n",
            "Data columns (total 5 columns):\n",
            " #   Column           Non-Null Count  Dtype  \n",
            "---  ------           --------------  -----  \n",
            " 0   R&D Spend        50 non-null     float64\n",
            " 1   Administration   50 non-null     float64\n",
            " 2   Marketing Spend  50 non-null     float64\n",
            " 3   State            50 non-null     object \n",
            " 4   Profit           50 non-null     float64\n",
            "dtypes: float64(4), object(1)\n",
            "memory usage: 2.1+ KB\n"
          ],
          "name": "stdout"
        }
      ]
    },
    {
      "cell_type": "code",
      "metadata": {
        "colab": {
          "base_uri": "https://localhost:8080/"
        },
        "id": "3lZ9rWKzdtLY",
        "outputId": "459c9c5e-4c08-491b-df99-d8ea509d9e92"
      },
      "source": [
        "# Check is there any Na Value or Not\n",
        "\n",
        "Df.isna().sum()"
      ],
      "execution_count": null,
      "outputs": [
        {
          "output_type": "execute_result",
          "data": {
            "text/plain": [
              "R&D Spend          0\n",
              "Administration     0\n",
              "Marketing Spend    0\n",
              "State              0\n",
              "Profit             0\n",
              "dtype: int64"
            ]
          },
          "metadata": {
            "tags": []
          },
          "execution_count": 59
        }
      ]
    },
    {
      "cell_type": "code",
      "metadata": {
        "colab": {
          "base_uri": "https://localhost:8080/"
        },
        "id": "zYzljsmcd8n3",
        "outputId": "ed1a31d1-db8f-4167-afff-fe0bfc1e4566"
      },
      "source": [
        "\n",
        "Df.State.value_counts(normalize=True)"
      ],
      "execution_count": null,
      "outputs": [
        {
          "output_type": "execute_result",
          "data": {
            "text/plain": [
              "New York      0.34\n",
              "California    0.34\n",
              "Florida       0.32\n",
              "Name: State, dtype: float64"
            ]
          },
          "metadata": {
            "tags": []
          },
          "execution_count": 60
        }
      ]
    },
    {
      "cell_type": "code",
      "metadata": {
        "colab": {
          "base_uri": "https://localhost:8080/"
        },
        "id": "WSEf8TQ4eQfI",
        "outputId": "b6946b32-9b55-4950-fdaf-feb27a48fde8"
      },
      "source": [
        "# Checking Mean\n",
        "Df.mean()"
      ],
      "execution_count": null,
      "outputs": [
        {
          "output_type": "execute_result",
          "data": {
            "text/plain": [
              "R&D Spend           73721.6156\n",
              "Administration     121344.6396\n",
              "Marketing Spend    211025.0978\n",
              "Profit             112012.6392\n",
              "dtype: float64"
            ]
          },
          "metadata": {
            "tags": []
          },
          "execution_count": 61
        }
      ]
    },
    {
      "cell_type": "code",
      "metadata": {
        "colab": {
          "base_uri": "https://localhost:8080/"
        },
        "id": "O7OuxunqeVfc",
        "outputId": "862911ef-a91e-49c9-ed43-ce0e20137c64"
      },
      "source": [
        "# Checking Median\n",
        "Df.median()"
      ],
      "execution_count": null,
      "outputs": [
        {
          "output_type": "execute_result",
          "data": {
            "text/plain": [
              "R&D Spend           73051.080\n",
              "Administration     122699.795\n",
              "Marketing Spend    212716.240\n",
              "Profit             107978.190\n",
              "dtype: float64"
            ]
          },
          "metadata": {
            "tags": []
          },
          "execution_count": 62
        }
      ]
    },
    {
      "cell_type": "code",
      "metadata": {
        "colab": {
          "base_uri": "https://localhost:8080/"
        },
        "id": "-e_KC64ZeZ8L",
        "outputId": "5dfbab13-5bfa-4e53-a8fa-cb882ae24bfe"
      },
      "source": [
        "# Standared Deviation \n",
        "\n",
        "Df.std()"
      ],
      "execution_count": null,
      "outputs": [
        {
          "output_type": "execute_result",
          "data": {
            "text/plain": [
              "R&D Spend           45902.256482\n",
              "Administration      28017.802755\n",
              "Marketing Spend    122290.310726\n",
              "Profit              40306.180338\n",
              "dtype: float64"
            ]
          },
          "metadata": {
            "tags": []
          },
          "execution_count": 63
        }
      ]
    },
    {
      "cell_type": "code",
      "metadata": {
        "colab": {
          "base_uri": "https://localhost:8080/",
          "height": 175
        },
        "id": "5IF-CatOefHi",
        "outputId": "4953ed6c-8aea-43c9-db0e-114694f0d8a5"
      },
      "source": [
        "# Checking Correlation \n",
        "\n",
        "Df.corr()"
      ],
      "execution_count": null,
      "outputs": [
        {
          "output_type": "execute_result",
          "data": {
            "text/html": [
              "<div>\n",
              "<style scoped>\n",
              "    .dataframe tbody tr th:only-of-type {\n",
              "        vertical-align: middle;\n",
              "    }\n",
              "\n",
              "    .dataframe tbody tr th {\n",
              "        vertical-align: top;\n",
              "    }\n",
              "\n",
              "    .dataframe thead th {\n",
              "        text-align: right;\n",
              "    }\n",
              "</style>\n",
              "<table border=\"1\" class=\"dataframe\">\n",
              "  <thead>\n",
              "    <tr style=\"text-align: right;\">\n",
              "      <th></th>\n",
              "      <th>R&amp;D Spend</th>\n",
              "      <th>Administration</th>\n",
              "      <th>Marketing Spend</th>\n",
              "      <th>Profit</th>\n",
              "    </tr>\n",
              "  </thead>\n",
              "  <tbody>\n",
              "    <tr>\n",
              "      <th>R&amp;D Spend</th>\n",
              "      <td>1.000000</td>\n",
              "      <td>0.241955</td>\n",
              "      <td>0.724248</td>\n",
              "      <td>0.972900</td>\n",
              "    </tr>\n",
              "    <tr>\n",
              "      <th>Administration</th>\n",
              "      <td>0.241955</td>\n",
              "      <td>1.000000</td>\n",
              "      <td>-0.032154</td>\n",
              "      <td>0.200717</td>\n",
              "    </tr>\n",
              "    <tr>\n",
              "      <th>Marketing Spend</th>\n",
              "      <td>0.724248</td>\n",
              "      <td>-0.032154</td>\n",
              "      <td>1.000000</td>\n",
              "      <td>0.747766</td>\n",
              "    </tr>\n",
              "    <tr>\n",
              "      <th>Profit</th>\n",
              "      <td>0.972900</td>\n",
              "      <td>0.200717</td>\n",
              "      <td>0.747766</td>\n",
              "      <td>1.000000</td>\n",
              "    </tr>\n",
              "  </tbody>\n",
              "</table>\n",
              "</div>"
            ],
            "text/plain": [
              "                 R&D Spend  Administration  Marketing Spend    Profit\n",
              "R&D Spend         1.000000        0.241955         0.724248  0.972900\n",
              "Administration    0.241955        1.000000        -0.032154  0.200717\n",
              "Marketing Spend   0.724248       -0.032154         1.000000  0.747766\n",
              "Profit            0.972900        0.200717         0.747766  1.000000"
            ]
          },
          "metadata": {
            "tags": []
          },
          "execution_count": 64
        }
      ]
    },
    {
      "cell_type": "code",
      "metadata": {
        "id": "4DkDGjBSm-K8"
      },
      "source": [
        "# Import package for plotting \n",
        "\n",
        "import seaborn as Sis"
      ],
      "execution_count": null,
      "outputs": []
    },
    {
      "cell_type": "code",
      "metadata": {
        "colab": {
          "base_uri": "https://localhost:8080/",
          "height": 344
        },
        "id": "FHP4hYlwmZMK",
        "outputId": "49454528-321a-4d3c-b3e9-f1b4187eedb5"
      },
      "source": [
        "# Heatmap\n",
        "\n",
        "Sis.heatmap(Df.corr(),annot=True, cmap='Blues')\n",
        "Plt.show()"
      ],
      "execution_count": null,
      "outputs": [
        {
          "output_type": "display_data",
          "data": {
            "image/png": "[encoded data removed]",
            "text/plain": [
              "<Figure size 432x288 with 2 Axes>"
            ]
          },
          "metadata": {
            "tags": [],
            "needs_background": "light"
          }
        }
      ]
    },
    {
      "cell_type": "code",
      "metadata": {
        "colab": {
          "base_uri": "https://localhost:8080/",
          "height": 300
        },
        "id": "SIHxoPEYeoUR",
        "outputId": "f558ca7c-d06d-4b4b-b95b-b46b696c1977"
      },
      "source": [
        "# In place pof mmean max median Std we can use describe \n",
        "\n",
        "Df.describe()"
      ],
      "execution_count": null,
      "outputs": [
        {
          "output_type": "execute_result",
          "data": {
            "text/html": [
              "<div>\n",
              "<style scoped>\n",
              "    .dataframe tbody tr th:only-of-type {\n",
              "        vertical-align: middle;\n",
              "    }\n",
              "\n",
              "    .dataframe tbody tr th {\n",
              "        vertical-align: top;\n",
              "    }\n",
              "\n",
              "    .dataframe thead th {\n",
              "        text-align: right;\n",
              "    }\n",
              "</style>\n",
              "<table border=\"1\" class=\"dataframe\">\n",
              "  <thead>\n",
              "    <tr style=\"text-align: right;\">\n",
              "      <th></th>\n",
              "      <th>R&amp;D Spend</th>\n",
              "      <th>Administration</th>\n",
              "      <th>Marketing Spend</th>\n",
              "      <th>Profit</th>\n",
              "    </tr>\n",
              "  </thead>\n",
              "  <tbody>\n",
              "    <tr>\n",
              "      <th>count</th>\n",
              "      <td>50.000000</td>\n",
              "      <td>50.000000</td>\n",
              "      <td>50.000000</td>\n",
              "      <td>50.000000</td>\n",
              "    </tr>\n",
              "    <tr>\n",
              "      <th>mean</th>\n",
              "      <td>73721.615600</td>\n",
              "      <td>121344.639600</td>\n",
              "      <td>211025.097800</td>\n",
              "      <td>112012.639200</td>\n",
              "    </tr>\n",
              "    <tr>\n",
              "      <th>std</th>\n",
              "      <td>45902.256482</td>\n",
              "      <td>28017.802755</td>\n",
              "      <td>122290.310726</td>\n",
              "      <td>40306.180338</td>\n",
              "    </tr>\n",
              "    <tr>\n",
              "      <th>min</th>\n",
              "      <td>0.000000</td>\n",
              "      <td>51283.140000</td>\n",
              "      <td>0.000000</td>\n",
              "      <td>14681.400000</td>\n",
              "    </tr>\n",
              "    <tr>\n",
              "      <th>25%</th>\n",
              "      <td>39936.370000</td>\n",
              "      <td>103730.875000</td>\n",
              "      <td>129300.132500</td>\n",
              "      <td>90138.902500</td>\n",
              "    </tr>\n",
              "    <tr>\n",
              "      <th>50%</th>\n",
              "      <td>73051.080000</td>\n",
              "      <td>122699.795000</td>\n",
              "      <td>212716.240000</td>\n",
              "      <td>107978.190000</td>\n",
              "    </tr>\n",
              "    <tr>\n",
              "      <th>75%</th>\n",
              "      <td>101602.800000</td>\n",
              "      <td>144842.180000</td>\n",
              "      <td>299469.085000</td>\n",
              "      <td>139765.977500</td>\n",
              "    </tr>\n",
              "    <tr>\n",
              "      <th>max</th>\n",
              "      <td>165349.200000</td>\n",
              "      <td>182645.560000</td>\n",
              "      <td>471784.100000</td>\n",
              "      <td>192261.830000</td>\n",
              "    </tr>\n",
              "  </tbody>\n",
              "</table>\n",
              "</div>"
            ],
            "text/plain": [
              "           R&D Spend  Administration  Marketing Spend         Profit\n",
              "count      50.000000       50.000000        50.000000      50.000000\n",
              "mean    73721.615600   121344.639600    211025.097800  112012.639200\n",
              "std     45902.256482    28017.802755    122290.310726   40306.180338\n",
              "min         0.000000    51283.140000         0.000000   14681.400000\n",
              "25%     39936.370000   103730.875000    129300.132500   90138.902500\n",
              "50%     73051.080000   122699.795000    212716.240000  107978.190000\n",
              "75%    101602.800000   144842.180000    299469.085000  139765.977500\n",
              "max    165349.200000   182645.560000    471784.100000  192261.830000"
            ]
          },
          "metadata": {
            "tags": []
          },
          "execution_count": 67
        }
      ]
    },
    {
      "cell_type": "markdown",
      "metadata": {
        "id": "N24aBz1fidRu"
      },
      "source": [
        "**Data_Visulatization**"
      ]
    },
    {
      "cell_type": "code",
      "metadata": {
        "colab": {
          "base_uri": "https://localhost:8080/"
        },
        "id": "Dc1dlyia2gOR",
        "outputId": "f3c7ac6d-0b80-4da8-fb38-7bab9e3141fa"
      },
      "source": [
        "# How many state are there in State column\n",
        "Df.State.value_counts()"
      ],
      "execution_count": null,
      "outputs": [
        {
          "output_type": "execute_result",
          "data": {
            "text/plain": [
              "New York      17\n",
              "California    17\n",
              "Florida       16\n",
              "Name: State, dtype: int64"
            ]
          },
          "metadata": {
            "tags": []
          },
          "execution_count": 68
        }
      ]
    },
    {
      "cell_type": "code",
      "metadata": {
        "id": "q9IEJoBGiTR-",
        "colab": {
          "base_uri": "https://localhost:8080/",
          "height": 708
        },
        "outputId": "88c68336-1236-44af-82ca-b2e659c10d8c"
      },
      "source": [
        "# Pie_Plot(State Count)\n",
        "# Plot_1 (Parcenttage wise)\n",
        "Plt.figure(figsize=(5,5))\n",
        "Df.State.value_counts().plot.pie(colors=['#7fffd4','#00bfff','#000080'],\n",
        "                                 labels=Df.State.unique(),\n",
        "                                 startangle=180,autopct='%.0f%%')\n",
        "Plt.title(\"Count of States\")\n",
        "Plt.show()\n",
        "\n",
        "# Bar Plot\n",
        "# Plot_2 (Number wise_\n",
        "Plt.figure(figsize=(8,5))\n",
        "Plt.subplot(1,2,1)\n",
        "Plt.title(\"State Count\")\n",
        "Sis.countplot(Df[\"State\"])\n",
        "Plt.show()"
      ],
      "execution_count": null,
      "outputs": [
        {
          "output_type": "display_data",
          "data": {
            "image/png": "[encoded data removed]",
            "text/plain": [
              "<Figure size 360x360 with 1 Axes>"
            ]
          },
          "metadata": {
            "tags": []
          }
        },
        {
          "output_type": "stream",
          "text": [
            "/usr/local/lib/python3.7/dist-packages/seaborn/_decorators.py:43: FutureWarning: Pass the following variable as a keyword arg: x. From version 0.12, the only valid positional argument will be `data`, and passing other arguments without an explicit keyword will result in an error or misinterpretation.\n",
            "  FutureWarning\n"
          ],
          "name": "stderr"
        },
        {
          "output_type": "display_data",
          "data": {
            "image/png": "[encoded data removed]",
            "text/plain": [
              "<Figure size 576x360 with 1 Axes>"
            ]
          },
          "metadata": {
            "tags": [],
            "needs_background": "light"
          }
        }
      ]
    },
    {
      "cell_type": "code",
      "metadata": {
        "id": "wq7QF2fXzkHD"
      },
      "source": [
        ""
      ],
      "execution_count": null,
      "outputs": []
    },
    {
      "cell_type": "code",
      "metadata": {
        "colab": {
          "base_uri": "https://localhost:8080/",
          "height": 703
        },
        "id": "2e9ixPJsB8oA",
        "outputId": "8e2ec78d-83b4-4313-e28e-cd0667e1afa2"
      },
      "source": [
        "gridsize=(2,4)\n",
        "Fig = Plt.figure(figsize=(16,8))\n",
        "\n",
        "Ax1 = Plt.subplot2grid(gridsize,(0,0), colspan=2, rowspan=1)\n",
        "Ax5 = Plt.subplot2grid(gridsize,(1,0), colspan=2, rowspan=1)\n",
        "Ax4 = Plt.subplot2grid(gridsize,(1,0), colspan=2, rowspan=1)\n",
        "Ax3 = Plt.subplot2grid(gridsize,(1,0), colspan=2, rowspan=1)\n",
        "Ax2 = Plt.subplot2grid(gridsize,(0,2), colspan=2, rowspan=2)\n",
        "\n",
        "Ax1.hist(Df['R&D Spend'],color='c',edgecolor='b')\n",
        "Ax1.set_title('Histogram of R&D spend ')\n",
        "Ax1.set_ylabel('R & D Spend')\n",
        "\n",
        "Ax2.hist(Df['Profit'],color='g',edgecolor='black')\n",
        "Ax2.set_title('Company profit ')\n",
        "Ax2.set_ylabel('profit')\n",
        "\n",
        "Ax3.hist(Df['Marketing Spend'],color='y',edgecolor='black')\n",
        "Ax3.set_title('Histogrm of Administration')\n",
        "Ax3.set_xlabel('Bins')\n",
        "Ax3.set_ylabel('Marketing spend')\n",
        "\n",
        "fig.suptitle('Data Visualization',y=1.05,fontsize=20)"
      ],
      "execution_count": null,
      "outputs": [
        {
          "output_type": "error",
          "ename": "NameError",
          "evalue": "ignored",
          "traceback": [
            "\u001b[0;31m---------------------------------------------------------------------------\u001b[0m",
            "\u001b[0;31mNameError\u001b[0m                                 Traceback (most recent call last)",
            "\u001b[0;32m<ipython-input-70-4f0b7cb99344>\u001b[0m in \u001b[0;36m<module>\u001b[0;34m()\u001b[0m\n\u001b[1;32m     21\u001b[0m \u001b[0mAx3\u001b[0m\u001b[0;34m.\u001b[0m\u001b[0mset_ylabel\u001b[0m\u001b[0;34m(\u001b[0m\u001b[0;34m'Marketing spend'\u001b[0m\u001b[0;34m)\u001b[0m\u001b[0;34m\u001b[0m\u001b[0;34m\u001b[0m\u001b[0m\n\u001b[1;32m     22\u001b[0m \u001b[0;34m\u001b[0m\u001b[0m\n\u001b[0;32m---> 23\u001b[0;31m \u001b[0mfig\u001b[0m\u001b[0;34m.\u001b[0m\u001b[0msuptitle\u001b[0m\u001b[0;34m(\u001b[0m\u001b[0;34m'Data Visualization'\u001b[0m\u001b[0;34m,\u001b[0m\u001b[0my\u001b[0m\u001b[0;34m=\u001b[0m\u001b[0;36m1.05\u001b[0m\u001b[0;34m,\u001b[0m\u001b[0mfontsize\u001b[0m\u001b[0;34m=\u001b[0m\u001b[0;36m20\u001b[0m\u001b[0;34m)\u001b[0m\u001b[0;34m\u001b[0m\u001b[0;34m\u001b[0m\u001b[0m\n\u001b[0m",
            "\u001b[0;31mNameError\u001b[0m: name 'fig' is not defined"
          ]
        },
        {
          "output_type": "display_data",
          "data": {
            "image/png": "[encoded data removed]",
            "text/plain": [
              "<Figure size 1152x576 with 3 Axes>"
            ]
          },
          "metadata": {
            "tags": [],
            "needs_background": "light"
          }
        }
      ]
    },
    {
      "cell_type": "code",
      "metadata": {
        "id": "LJZ3ZExcLtgh",
        "colab": {
          "base_uri": "https://localhost:8080/",
          "height": 313
        },
        "outputId": "267e8ac3-628c-49bc-c2f6-f8476c031516"
      },
      "source": [
        "#   Scatter Plot\n",
        "\n",
        "# Plor 1\n",
        "Plt.scatter(Df[\"R&D Spend\"],Df[\"Profit\"], color=\"Red\")\n",
        "Plt.title(\"R&D Spend Vs Profit\")\n",
        "Plt.xlabel(\"R&D Spend\")\n",
        "Plt.ylabel(\"Profir\")\n",
        "Plt.grid()\n",
        "Plt.legend()\n",
        "Plt.show()"
      ],
      "execution_count": null,
      "outputs": [
        {
          "output_type": "stream",
          "text": [
            "No handles with labels found to put in legend.\n"
          ],
          "name": "stderr"
        },
        {
          "output_type": "display_data",
          "data": {
            "image/png": "[encoded data removed]",
            "text/plain": [
              "<Figure size 432x288 with 1 Axes>"
            ]
          },
          "metadata": {
            "tags": [],
            "needs_background": "light"
          }
        }
      ]
    },
    {
      "cell_type": "code",
      "metadata": {
        "colab": {
          "base_uri": "https://localhost:8080/",
          "height": 609
        },
        "id": "vFaK_Pf1TY3N",
        "outputId": "990a3db3-5e5e-41f9-b6f6-829634b8f0cb"
      },
      "source": [
        "# Scatter Plot\n",
        "\n",
        "# Plor 2\n",
        "Plt.scatter(Df[\"Administration\"],Df[\"Profit\"], color=\"Red\")\n",
        "Plt.title(\"Administration Vs Profit\")\n",
        "Plt.xlabel(\"Administration\")\n",
        "Plt.ylabel(\"Profit\")\n",
        "Plt.grid()\n",
        "Plt.legend()\n",
        "Plt.show()\n",
        "\n",
        "# Scatter Plot\n",
        "\n",
        "# Plor 3\n",
        "Plt.scatter(Df[\"Marketing Spend\"],Df[\"Profit\"], color=\"Red\")\n",
        "Plt.title(\"Marketing Spend Vs Profit\")\n",
        "Plt.xlabel(\"Marketing Spend\")\n",
        "Plt.ylabel(\"Profit\")\n",
        "Plt.grid()\n",
        "Plt.legend()\n",
        "Plt.show()"
      ],
      "execution_count": null,
      "outputs": [
        {
          "output_type": "stream",
          "text": [
            "No handles with labels found to put in legend.\n"
          ],
          "name": "stderr"
        },
        {
          "output_type": "display_data",
          "data": {
            "image/png": "[encoded data removed]",
            "text/plain": [
              "<Figure size 432x288 with 1 Axes>"
            ]
          },
          "metadata": {
            "tags": [],
            "needs_background": "light"
          }
        },
        {
          "output_type": "stream",
          "text": [
            "No handles with labels found to put in legend.\n"
          ],
          "name": "stderr"
        },
        {
          "output_type": "display_data",
          "data": {
            "image/png": "[encoded data removed]",
            "text/plain": [
              "<Figure size 432x288 with 1 Axes>"
            ]
          },
          "metadata": {
            "tags": [],
            "needs_background": "light"
          }
        }
      ]
    },
    {
      "cell_type": "code",
      "metadata": {
        "id": "XJ-tHmofZ_nn"
      },
      "source": [
        "# Import package for plotting \n",
        "\n",
        "import seaborn as Sis"
      ],
      "execution_count": null,
      "outputs": []
    },
    {
      "cell_type": "code",
      "metadata": {
        "colab": {
          "base_uri": "https://localhost:8080/",
          "height": 744
        },
        "id": "rAhHHHvMcfru",
        "outputId": "cf1d22fa-63ce-456c-efce-935274a79e47"
      },
      "source": [
        "Sis.pairplot(Df)"
      ],
      "execution_count": null,
      "outputs": [
        {
          "output_type": "execute_result",
          "data": {
            "text/plain": [
              "<seaborn.axisgrid.PairGrid at 0x7f9fee01e8d0>"
            ]
          },
          "metadata": {
            "tags": []
          },
          "execution_count": 74
        },
        {
          "output_type": "display_data",
          "data": {
            "image/png": "[encoded data removed]",
            "text/plain": [
              "<Figure size 720x720 with 20 Axes>"
            ]
          },
          "metadata": {
            "tags": [],
            "needs_background": "light"
          }
        }
      ]
    },
    {
      "cell_type": "markdown",
      "metadata": {
        "id": "G9W2uZEuk1Ru"
      },
      "source": [
        "**Linear Regression Model**"
      ]
    },
    {
      "cell_type": "code",
      "metadata": {
        "colab": {
          "base_uri": "https://localhost:8080/"
        },
        "id": "RbCY1Fbfk0Ol",
        "outputId": "67cc8899-7571-422e-d64d-12433b65807f"
      },
      "source": [
        "Df.columns"
      ],
      "execution_count": null,
      "outputs": [
        {
          "output_type": "execute_result",
          "data": {
            "text/plain": [
              "Index(['R&D Spend', 'Administration', 'Marketing Spend', 'State', 'Profit'], dtype='object')"
            ]
          },
          "metadata": {
            "tags": []
          },
          "execution_count": 71
        }
      ]
    },
    {
      "cell_type": "code",
      "metadata": {
        "id": "qLW1nbACidxX"
      },
      "source": [
        "X = Df.drop(['State','Profit'], axis=1)  # In X except Profit all columns r there \n",
        "Y = Df[\"Profit\"]  # In Y only Profit is there "
      ],
      "execution_count": null,
      "outputs": []
    },
    {
      "cell_type": "code",
      "metadata": {
        "colab": {
          "base_uri": "https://localhost:8080/"
        },
        "id": "JV22Cyafl-L3",
        "outputId": "48447355-467b-423d-c0ba-988544ddd2ee"
      },
      "source": [
        "print(X.head())\n",
        "print(Y.head())"
      ],
      "execution_count": null,
      "outputs": [
        {
          "output_type": "stream",
          "text": [
            "   R&D Spend  Administration  Marketing Spend\n",
            "0  165349.20       136897.80        471784.10\n",
            "1  162597.70       151377.59        443898.53\n",
            "2  153441.51       101145.55        407934.54\n",
            "3  144372.41       118671.85        383199.62\n",
            "4  142107.34        91391.77        366168.42\n",
            "0    192261.83\n",
            "1    191792.06\n",
            "2    191050.39\n",
            "3    182901.99\n",
            "4    166187.94\n",
            "Name: Profit, dtype: float64\n"
          ],
          "name": "stdout"
        }
      ]
    },
    {
      "cell_type": "code",
      "metadata": {
        "id": "ypT_aasMmYAS"
      },
      "source": [
        "from sklearn.model_selection import train_test_split\n",
        "X_train,X_test,Y_train,Y_test = train_test_split(X,Y,test_size=0.15, random_state = 5)"
      ],
      "execution_count": null,
      "outputs": []
    },
    {
      "cell_type": "code",
      "metadata": {
        "colab": {
          "base_uri": "https://localhost:8080/"
        },
        "id": "60gOW6Uv0pTJ",
        "outputId": "2940eab1-b372-4d4f-870a-167ea61e2d0a"
      },
      "source": [
        "print(X_train.shape)\n",
        "print(X_test.shape)"
      ],
      "execution_count": null,
      "outputs": [
        {
          "output_type": "stream",
          "text": [
            "(42, 3)\n",
            "(8, 3)\n"
          ],
          "name": "stdout"
        }
      ]
    },
    {
      "cell_type": "code",
      "metadata": {
        "colab": {
          "base_uri": "https://localhost:8080/"
        },
        "id": "bJt-Z8YHup41",
        "outputId": "e9c24d20-374e-46e5-fc82-0e0851f3ab9d"
      },
      "source": [
        "Df_LM = LinearRegression()\n",
        "Df_LM.fit(X_train,Y_train)"
      ],
      "execution_count": null,
      "outputs": [
        {
          "output_type": "execute_result",
          "data": {
            "text/plain": [
              "LinearRegression(copy_X=True, fit_intercept=True, n_jobs=None, normalize=False)"
            ]
          },
          "metadata": {
            "tags": []
          },
          "execution_count": 92
        }
      ]
    },
    {
      "cell_type": "code",
      "metadata": {
        "id": "W78hkQVOvFLP"
      },
      "source": [
        "Y_Pred_Train = Df_LM.predict(X_train)\n",
        "Y_Pred_Test = Df_LM.predict(X_test)"
      ],
      "execution_count": null,
      "outputs": []
    },
    {
      "cell_type": "code",
      "metadata": {
        "colab": {
          "base_uri": "https://localhost:8080/",
          "height": 237
        },
        "id": "mnbBET9nwNQD",
        "outputId": "b5d93108-faca-4069-b433-ff4b1d0f85c1"
      },
      "source": [
        "# Comparing Train Data\n",
        "\n",
        "Df_Comp_0 = PD.DataFrame(Y_Pred_Train,Y_train)\n",
        "Df_Comp_0.head()"
      ],
      "execution_count": null,
      "outputs": [
        {
          "output_type": "execute_result",
          "data": {
            "text/html": [
              "<div>\n",
              "<style scoped>\n",
              "    .dataframe tbody tr th:only-of-type {\n",
              "        vertical-align: middle;\n",
              "    }\n",
              "\n",
              "    .dataframe tbody tr th {\n",
              "        vertical-align: top;\n",
              "    }\n",
              "\n",
              "    .dataframe thead th {\n",
              "        text-align: right;\n",
              "    }\n",
              "</style>\n",
              "<table border=\"1\" class=\"dataframe\">\n",
              "  <thead>\n",
              "    <tr style=\"text-align: right;\">\n",
              "      <th></th>\n",
              "      <th>0</th>\n",
              "    </tr>\n",
              "    <tr>\n",
              "      <th>Profit</th>\n",
              "      <th></th>\n",
              "    </tr>\n",
              "  </thead>\n",
              "  <tbody>\n",
              "    <tr>\n",
              "      <th>182901.99</th>\n",
              "      <td>173329.781973</td>\n",
              "    </tr>\n",
              "    <tr>\n",
              "      <th>111313.02</th>\n",
              "      <td>117480.688121</td>\n",
              "    </tr>\n",
              "    <tr>\n",
              "      <th>97483.56</th>\n",
              "      <td>96282.282286</td>\n",
              "    </tr>\n",
              "    <tr>\n",
              "      <th>166187.94</th>\n",
              "      <td>171611.839597</td>\n",
              "    </tr>\n",
              "    <tr>\n",
              "      <th>97427.84</th>\n",
              "      <td>97136.143420</td>\n",
              "    </tr>\n",
              "  </tbody>\n",
              "</table>\n",
              "</div>"
            ],
            "text/plain": [
              "                       0\n",
              "Profit                  \n",
              "182901.99  173329.781973\n",
              "111313.02  117480.688121\n",
              "97483.56    96282.282286\n",
              "166187.94  171611.839597\n",
              "97427.84    97136.143420"
            ]
          },
          "metadata": {
            "tags": []
          },
          "execution_count": 94
        }
      ]
    },
    {
      "cell_type": "code",
      "metadata": {
        "colab": {
          "base_uri": "https://localhost:8080/"
        },
        "id": "3pDR_EbH2aWU",
        "outputId": "c1675421-7d79-4772-b28e-fe7b5574f83a"
      },
      "source": [
        "Y_Pred_Test"
      ],
      "execution_count": null,
      "outputs": [
        {
          "output_type": "execute_result",
          "data": {
            "text/plain": [
              "array([ 70325.52437899, 100476.58052481, 155707.87044326, 112985.57358769,\n",
              "       100486.4163444 , 129887.99251962, 181802.01158175,  59079.19307563])"
            ]
          },
          "metadata": {
            "tags": []
          },
          "execution_count": 96
        }
      ]
    },
    {
      "cell_type": "code",
      "metadata": {
        "colab": {
          "base_uri": "https://localhost:8080/",
          "height": 300
        },
        "id": "_BiKKsWIwe_g",
        "outputId": "49565d3a-a8ea-4872-dff2-6f666144b50f"
      },
      "source": [
        "Df_Comp_1 = PD.DataFrame(Y_Pred_Test,Y_Pred_Test)\n",
        "Df_Comp_1"
      ],
      "execution_count": null,
      "outputs": [
        {
          "output_type": "execute_result",
          "data": {
            "text/html": [
              "<div>\n",
              "<style scoped>\n",
              "    .dataframe tbody tr th:only-of-type {\n",
              "        vertical-align: middle;\n",
              "    }\n",
              "\n",
              "    .dataframe tbody tr th {\n",
              "        vertical-align: top;\n",
              "    }\n",
              "\n",
              "    .dataframe thead th {\n",
              "        text-align: right;\n",
              "    }\n",
              "</style>\n",
              "<table border=\"1\" class=\"dataframe\">\n",
              "  <thead>\n",
              "    <tr style=\"text-align: right;\">\n",
              "      <th></th>\n",
              "      <th>0</th>\n",
              "    </tr>\n",
              "  </thead>\n",
              "  <tbody>\n",
              "    <tr>\n",
              "      <th>70325.524379</th>\n",
              "      <td>70325.524379</td>\n",
              "    </tr>\n",
              "    <tr>\n",
              "      <th>100476.580525</th>\n",
              "      <td>100476.580525</td>\n",
              "    </tr>\n",
              "    <tr>\n",
              "      <th>155707.870443</th>\n",
              "      <td>155707.870443</td>\n",
              "    </tr>\n",
              "    <tr>\n",
              "      <th>112985.573588</th>\n",
              "      <td>112985.573588</td>\n",
              "    </tr>\n",
              "    <tr>\n",
              "      <th>100486.416344</th>\n",
              "      <td>100486.416344</td>\n",
              "    </tr>\n",
              "    <tr>\n",
              "      <th>129887.992520</th>\n",
              "      <td>129887.992520</td>\n",
              "    </tr>\n",
              "    <tr>\n",
              "      <th>181802.011582</th>\n",
              "      <td>181802.011582</td>\n",
              "    </tr>\n",
              "    <tr>\n",
              "      <th>59079.193076</th>\n",
              "      <td>59079.193076</td>\n",
              "    </tr>\n",
              "  </tbody>\n",
              "</table>\n",
              "</div>"
            ],
            "text/plain": [
              "                           0\n",
              "70325.524379    70325.524379\n",
              "100476.580525  100476.580525\n",
              "155707.870443  155707.870443\n",
              "112985.573588  112985.573588\n",
              "100486.416344  100486.416344\n",
              "129887.992520  129887.992520\n",
              "181802.011582  181802.011582\n",
              "59079.193076    59079.193076"
            ]
          },
          "metadata": {
            "tags": []
          },
          "execution_count": 95
        }
      ]
    },
    {
      "cell_type": "markdown",
      "metadata": {
        "id": "NWMK_sKL2sm1"
      },
      "source": [
        "### **Accuracy**"
      ]
    },
    {
      "cell_type": "code",
      "metadata": {
        "colab": {
          "base_uri": "https://localhost:8080/"
        },
        "id": "SlXITQnn2xoa",
        "outputId": "bef4f9aa-dd84-447c-abd0-99f26043de57"
      },
      "source": [
        "print(\"Training Accuracy - \",Df_LM.score(X_train,Y_train))\n",
        "\n",
        "print(\"Testing Accuracy - \",Df_LM.score(X_test,Y_test))"
      ],
      "execution_count": null,
      "outputs": [
        {
          "output_type": "stream",
          "text": [
            "Training Accuracy -  0.9460302508640867\n",
            "Testing Accuracy -  0.9725552122197783\n"
          ],
          "name": "stdout"
        }
      ]
    },
    {
      "cell_type": "code",
      "metadata": {
        "colab": {
          "base_uri": "https://localhost:8080/"
        },
        "id": "l8ewEv_xwzru",
        "outputId": "06bbbe19-0889-4529-af64-d7819995cb3d"
      },
      "source": [
        "# Installing the packages\n",
        "\n",
        "from sklearn import metrics\n",
        "# R-Square\n",
        "Df_R = metrics.r2_score(Y_test, Y_Pred_Test)\n",
        "print(\"R-Square - \",Df_R)\n",
        "\n",
        "\n",
        "#from sklearn.metrics import mean_absolute_error\n",
        "\n",
        "#Df_Mse = mean_absolute_error(Y_test,Y_Pred_Test)  # Actual the Predict \n",
        "#Df_Mse"
      ],
      "execution_count": null,
      "outputs": [
        {
          "output_type": "stream",
          "text": [
            "R-Square -  0.9725552122197781\n"
          ],
          "name": "stdout"
        }
      ]
    },
    {
      "cell_type": "code",
      "metadata": {
        "colab": {
          "base_uri": "https://localhost:8080/",
          "height": 295
        },
        "id": "d8lo48XBxbSo",
        "outputId": "96af764c-7196-40af-d719-8c790fb4b74c"
      },
      "source": [
        "Plt.scatter(Y_train,Y_Pred_Train, c= \"blue\",marker=\"o\",label=\"Train Data\")\n",
        "Plt.scatter(Y_test,Y_Pred_Test, c= \"green\", marker = \"o\", label =\"Test Data\")\n",
        "Plt.title(\"Actual Vs Predict\")\n",
        "Plt.xlabel(\"True Value\")\n",
        "Plt.ylabel(\"Predicted Values\")\n",
        "Plt.legend()\n",
        "Plt.grid()\n",
        "Plt.show()"
      ],
      "execution_count": null,
      "outputs": [
        {
          "output_type": "display_data",
          "data": {
            "image/png": "[encoded data removed]",
            "text/plain": [
              "<Figure size 432x288 with 1 Axes>"
            ]
          },
          "metadata": {
            "tags": [],
            "needs_background": "light"
          }
        }
      ]
    },
    {
      "cell_type": "code",
      "metadata": {
        "id": "Xy-vjRWWyPEh"
      },
      "source": [
        ""
      ],
      "execution_count": null,
      "outputs": []
    }
  ]
}