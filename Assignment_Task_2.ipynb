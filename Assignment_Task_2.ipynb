{
  "nbformat": 4,
  "nbformat_minor": 0,
  "metadata": {
    "colab": {
      "name": "Assignment/Task 2.ipynb",
      "provenance": [],
      "collapsed_sections": [
        "UgwZ8qz5gVHI",
        "5UpTwuGDhQmV",
        "LBCHRR61hW5o",
        "jyUwCj8dhW8l"
      ]
    },
    "kernelspec": {
      "name": "python3",
      "display_name": "Python 3"
    },
    "language_info": {
      "name": "python"
    }
  },
  "cells": [
    {
      "cell_type": "markdown",
      "metadata": {
        "id": "xpLfcgLkgD_b"
      },
      "source": [
        "# Assignment/Task 2"
      ]
    },
    {
      "cell_type": "markdown",
      "metadata": {
        "id": "UgwZ8qz5gVHI"
      },
      "source": [
        "### Pritam Poddar \n",
        "GO_STP_55"
      ]
    },
    {
      "cell_type": "markdown",
      "metadata": {
        "id": "5UpTwuGDhQmV"
      },
      "source": [
        "## 1) Is a list mutable?"
      ]
    },
    {
      "cell_type": "markdown",
      "metadata": {
        "id": "VCrQR-hwAoar"
      },
      "source": [
        "### --> Yes, List is a mutable data type."
      ]
    },
    {
      "cell_type": "code",
      "metadata": {
        "colab": {
          "base_uri": "https://localhost:8080/"
        },
        "id": "bge_3HP0Doqf",
        "outputId": "d45e81a5-8be1-44aa-a11f-f5053719f95d"
      },
      "source": [
        "# Creating lists\n",
        "list_1=[10,20,\"Hello\",35.2]\n",
        "list_2=[10,12,15,17,18]\n",
        "\n",
        "# list are mutable\n",
        "print(f'Before Changing the Element : {list_1}')\n",
        "list_1[0]=\"test\"\n",
        "print(f'After Changing the Element : {list_1}')"
      ],
      "execution_count": 1,
      "outputs": [
        {
          "output_type": "stream",
          "text": [
            "Before Changing the Element : [10, 20, 'Hello', 35.2]\n",
            "After Changing the Element : ['test', 20, 'Hello', 35.2]\n"
          ],
          "name": "stdout"
        }
      ]
    },
    {
      "cell_type": "markdown",
      "metadata": {
        "id": "LBCHRR61hW5o"
      },
      "source": [
        "## 2) Does a list need to be homogeneous?"
      ]
    },
    {
      "cell_type": "markdown",
      "metadata": {
        "id": "YOrgyAYaAsNE"
      },
      "source": [
        "### --> List cancontain heterogeneous values such as integers, floats, strings, tuples,lists, and dictionaries but they are commonly used to store collections ofhomogeneousobjects."
      ]
    },
    {
      "cell_type": "markdown",
      "metadata": {
        "id": "jyUwCj8dhW8l"
      },
      "source": [
        "## 3) What is the difference between a list and a tuple."
      ]
    },
    {
      "cell_type": "markdown",
      "metadata": {
        "id": "U4HM0UhrA6ZB"
      },
      "source": [
        "### --> Difference between list and tupleis thatlistis mutable, whereas atupleis immutable. This means thatlistscan be changed, andtuplescannot be changed"
      ]
    },
    {
      "cell_type": "markdown",
      "metadata": {
        "id": "ovbBraghhW_b"
      },
      "source": [
        "## 4) How to find the number of elements in the list?"
      ]
    },
    {
      "cell_type": "code",
      "metadata": {
        "colab": {
          "base_uri": "https://localhost:8080/"
        },
        "id": "VyC53Q20hrFR",
        "outputId": "5d516588-7310-4f1e-864c-b1296649451e"
      },
      "source": [
        "A = []\n",
        "B = int(input(\"Number of time - \"))\n",
        "for I in range(B):\n",
        "  C = input(\"Enter Any thing - \")\n",
        "  A.append(C)\n",
        "\n",
        "print(A)\n",
        "len(A)   # Len function is used to find number of element in the list"
      ],
      "execution_count": null,
      "outputs": [
        {
          "output_type": "stream",
          "text": [
            "Number of time - 3\n",
            "Enter Any thing - A\n",
            "Enter Any thing - B\n",
            "Enter Any thing - C\n",
            "['A', 'B', 'C']\n"
          ],
          "name": "stdout"
        },
        {
          "output_type": "execute_result",
          "data": {
            "text/plain": [
              "3"
            ]
          },
          "metadata": {
            "tags": []
          },
          "execution_count": 11
        }
      ]
    },
    {
      "cell_type": "markdown",
      "metadata": {
        "id": "3MzIKQX1hXC0"
      },
      "source": [
        "## 5) How to check whether the list is empty or not?"
      ]
    },
    {
      "cell_type": "code",
      "metadata": {
        "colab": {
          "base_uri": "https://localhost:8080/"
        },
        "id": "ahP796mSgYyD",
        "outputId": "8ae4030d-846e-4039-f630-dbb7366d14c1"
      },
      "source": [
        "A = []\n",
        "B = int(input(\"Enter Number of element u want to add - \"))\n",
        "if B == 0:\n",
        "  print(\"List is Empty\")\n",
        "else:\n",
        "  for I in range(B):\n",
        "    C = input(\"Enter - \")\n",
        "    A.append(C)\n",
        "  if len(A) == 0 :\n",
        "    print(\"List is Empty\")\n",
        "  else:\n",
        "    print(\"list is Not Empty\")\n",
        "print(\"Length is - \",len(A))"
      ],
      "execution_count": null,
      "outputs": [
        {
          "output_type": "stream",
          "text": [
            "Enter Number of element u want to add - 5\n",
            "Enter - 12\n",
            "Enter - 12\n",
            "Enter - 12\n",
            "Enter - 0\n",
            "Enter - 10\n",
            "list is Not Empty\n",
            "Length is -  5\n"
          ],
          "name": "stdout"
        }
      ]
    },
    {
      "cell_type": "markdown",
      "metadata": {
        "id": "v30K-K5Xof5p"
      },
      "source": [
        "##6) How to find the first and last element of the list?"
      ]
    },
    {
      "cell_type": "code",
      "metadata": {
        "colab": {
          "base_uri": "https://localhost:8080/"
        },
        "id": "YFk_R-qumW_0",
        "outputId": "1f80d313-4d78-4666-ce9b-92f7e217ea78"
      },
      "source": [
        "L = [\"A\",\"B\",\"C\",\"D\",1,2,3,4]\n",
        "print(L[0])  # For First Element\n",
        "\n",
        "print(L[-1])  # For Last Element"
      ],
      "execution_count": null,
      "outputs": [
        {
          "output_type": "stream",
          "text": [
            "A\n",
            "4\n"
          ],
          "name": "stdout"
        }
      ]
    },
    {
      "cell_type": "markdown",
      "metadata": {
        "id": "XY_RU0JCqISW"
      },
      "source": [
        "## 7) How to find the largest and lowest value in the list?"
      ]
    },
    {
      "cell_type": "code",
      "metadata": {
        "colab": {
          "base_uri": "https://localhost:8080/"
        },
        "id": "vpy4qPhXqHdD",
        "outputId": "2afa7f83-c23f-415e-e714-ce4302ec962b"
      },
      "source": [
        "A = []\n",
        "B = int(input(\"Number of Element - \"))\n",
        "for I in range(B):\n",
        "  C = int(input(\"Enter Number - \"))\n",
        "  A.append(C)\n",
        "print(max(A))\n",
        "print(min(A))"
      ],
      "execution_count": null,
      "outputs": [
        {
          "output_type": "stream",
          "text": [
            "Number of Element - 5\n",
            "Enter Number - 20\n",
            "Enter Number - 25\n",
            "Enter Number - 30\n",
            "Enter Number - 50\n",
            "Enter Number - 55\n",
            "55\n",
            "20\n"
          ],
          "name": "stdout"
        }
      ]
    },
    {
      "cell_type": "markdown",
      "metadata": {
        "id": "EEmq5SLWIppd"
      },
      "source": [
        "## 8) How to access elements of the list?"
      ]
    },
    {
      "cell_type": "code",
      "metadata": {
        "colab": {
          "base_uri": "https://localhost:8080/"
        },
        "id": "NuuoQwOTDMfB",
        "outputId": "bd67e510-af83-468b-e568-620fa0f0516e"
      },
      "source": [
        "A = []\n",
        "B = int(input(\"Number of Element - \"))\n",
        "for I in range(B):\n",
        "  C = int(input(\"Enter Number - \"))\n",
        "  A.append(C)\n",
        "print(A)"
      ],
      "execution_count": null,
      "outputs": [
        {
          "output_type": "stream",
          "text": [
            "Number of Element - 10\n",
            "Enter Number - 1\n",
            "Enter Number - 2\n",
            "Enter Number - 3\n",
            "Enter Number - 4\n",
            "Enter Number - 5\n",
            "Enter Number - 6\n",
            "Enter Number - 7\n",
            "Enter Number - 8\n",
            "Enter Number - 9\n",
            "Enter Number - 10\n",
            "[1, 2, 3, 4, 5, 6, 7, 8, 9, 10]\n"
          ],
          "name": "stdout"
        }
      ]
    },
    {
      "cell_type": "markdown",
      "metadata": {
        "id": "Jle7vavQKFYD"
      },
      "source": [
        "##9) Remove elements in a list before a specific index"
      ]
    },
    {
      "cell_type": "code",
      "metadata": {
        "colab": {
          "base_uri": "https://localhost:8080/"
        },
        "id": "Zpt-EkCiKMuK",
        "outputId": "25f58ed9-0107-423e-9c20-9f5510c16820"
      },
      "source": [
        "A = [1,2,3,4,5,6,7,8,9,10]\n",
        "A.pop()  #pop is used to delete element from any specific position\n",
        "print(A)"
      ],
      "execution_count": null,
      "outputs": [
        {
          "output_type": "stream",
          "text": [
            "[1, 2, 3, 4, 5, 6, 7, 8, 9]\n"
          ],
          "name": "stdout"
        }
      ]
    },
    {
      "cell_type": "markdown",
      "metadata": {
        "id": "C6eW-4s3LdLA"
      },
      "source": [
        "## 10) Remove elements in a list between 2 indices"
      ]
    },
    {
      "cell_type": "code",
      "metadata": {
        "colab": {
          "base_uri": "https://localhost:8080/"
        },
        "id": "u0CLoNMML5L2",
        "outputId": "6e9d4128-61de-41a4-d8ed-1c771ac3e5ff"
      },
      "source": [
        "A = [1,2,3,4,5,6,7,8,9,10]\n",
        "A.pop(-2)  #pop is used to delete element from any specific position\n",
        "print(A)"
      ],
      "execution_count": null,
      "outputs": [
        {
          "output_type": "stream",
          "text": [
            "[1, 2, 3, 4, 5, 6, 7, 8, 10]\n"
          ],
          "name": "stdout"
        }
      ]
    },
    {
      "cell_type": "markdown",
      "metadata": {
        "id": "nGxJI2t9NcP6"
      },
      "source": [
        "## 11) Return every 2nd element in a list between 2 indices"
      ]
    },
    {
      "cell_type": "code",
      "metadata": {
        "colab": {
          "base_uri": "https://localhost:8080/"
        },
        "id": "OXI0chKKNkND",
        "outputId": "fe890839-92e0-4235-8e27-e72460d53d77"
      },
      "source": [
        "A = [12,22,33,44,55,66,77,88,99,100]\n",
        "A[0:8:2]"
      ],
      "execution_count": null,
      "outputs": [
        {
          "output_type": "execute_result",
          "data": {
            "text/plain": [
              "[12, 33, 55, 77]"
            ]
          },
          "metadata": {
            "tags": []
          },
          "execution_count": 67
        }
      ]
    },
    {
      "cell_type": "markdown",
      "metadata": {
        "id": "mueK3IIlNcpA"
      },
      "source": [
        "## 12) Get the first element from each nested list in a list"
      ]
    },
    {
      "cell_type": "code",
      "metadata": {
        "colab": {
          "base_uri": "https://localhost:8080/"
        },
        "id": "rV23IyGSPhnu",
        "outputId": "50112489-723b-4244-bf73-074cde0235b1"
      },
      "source": [
        "C = []\n",
        "A = [[12,22,33,44,55],[66,77,88,99,100],[1,2,3,4,5],[6,7,8,9,10]]\n",
        "for I in A:\n",
        "  C.append(I[0])\n",
        "print(C)"
      ],
      "execution_count": null,
      "outputs": [
        {
          "output_type": "stream",
          "text": [
            "[12, 66, 1, 6]\n"
          ],
          "name": "stdout"
        }
      ]
    },
    {
      "cell_type": "markdown",
      "metadata": {
        "id": "xyRa0F-WNcrq"
      },
      "source": [
        "## 13) How to modify elements of the list?"
      ]
    },
    {
      "cell_type": "code",
      "metadata": {
        "colab": {
          "base_uri": "https://localhost:8080/"
        },
        "id": "p3TAa4JFfYO0",
        "outputId": "3cc7a4c7-ce1a-4ef0-a890-6af97162eae3"
      },
      "source": [
        "A = [12,22,33,44,55]\n",
        "print(\"\"A)\n",
        "A[0]=120\n",
        "print(A)"
      ],
      "execution_count": null,
      "outputs": [
        {
          "output_type": "stream",
          "text": [
            "[120, 22, 33, 44, 55]\n"
          ],
          "name": "stdout"
        }
      ]
    },
    {
      "cell_type": "markdown",
      "metadata": {
        "id": "LTbFXJnBNcuE"
      },
      "source": [
        "## 14) How to concatenate two lists?"
      ]
    },
    {
      "cell_type": "code",
      "metadata": {
        "colab": {
          "base_uri": "https://localhost:8080/"
        },
        "id": "m2uG2O5Ihett",
        "outputId": "915107c2-4620-44c9-9139-3fd05e1b9a14"
      },
      "source": [
        "A = [12,22,33,44,55]\n",
        "B = [1,2,3,4,5]\n",
        "print(A+B)"
      ],
      "execution_count": null,
      "outputs": [
        {
          "output_type": "stream",
          "text": [
            "[12, 22, 33, 44, 55, 1, 2, 3, 4, 5]\n"
          ],
          "name": "stdout"
        }
      ]
    },
    {
      "cell_type": "markdown",
      "metadata": {
        "id": "OWE_wrAXNcws"
      },
      "source": [
        "## 15) How to add two lists element-wise in python?`***"
      ]
    },
    {
      "cell_type": "code",
      "metadata": {
        "colab": {
          "base_uri": "https://localhost:8080/"
        },
        "id": "IgTLs-X323su",
        "outputId": "bb2d76b4-8b98-4720-cf76-d2ab5670c1cd"
      },
      "source": [
        "A = [12,22,33,44,55]\n",
        "B = [1,2,3,4,5] \n",
        "C = list(map(add,A,B))\n",
        "print(C)"
      ],
      "execution_count": null,
      "outputs": [
        {
          "output_type": "stream",
          "text": [
            "[13, 24, 36, 48, 60]\n"
          ],
          "name": "stdout"
        }
      ]
    },
    {
      "cell_type": "markdown",
      "metadata": {
        "id": "bclvopl8Ncyv"
      },
      "source": [
        "## 16) Difference between del and clear?\n"
      ]
    },
    {
      "cell_type": "code",
      "metadata": {
        "colab": {
          "base_uri": "https://localhost:8080/",
          "height": 207
        },
        "id": "iV4_96pLmxYk",
        "outputId": "4a3dfaa3-b175-4734-b3b8-09df0b5ec1cd"
      },
      "source": [
        "# Del\n",
        "B = [1,2,3,4,5]\n",
        "del B\n",
        "print(B)"
      ],
      "execution_count": null,
      "outputs": [
        {
          "output_type": "error",
          "ename": "NameError",
          "evalue": "ignored",
          "traceback": [
            "\u001b[0;31m---------------------------------------------------------------------------\u001b[0m",
            "\u001b[0;31mNameError\u001b[0m                                 Traceback (most recent call last)",
            "\u001b[0;32m<ipython-input-29-96fbffa672bf>\u001b[0m in \u001b[0;36m<module>\u001b[0;34m()\u001b[0m\n\u001b[1;32m      2\u001b[0m \u001b[0mB\u001b[0m \u001b[0;34m=\u001b[0m \u001b[0;34m[\u001b[0m\u001b[0;36m1\u001b[0m\u001b[0;34m,\u001b[0m\u001b[0;36m2\u001b[0m\u001b[0;34m,\u001b[0m\u001b[0;36m3\u001b[0m\u001b[0;34m,\u001b[0m\u001b[0;36m4\u001b[0m\u001b[0;34m,\u001b[0m\u001b[0;36m5\u001b[0m\u001b[0;34m]\u001b[0m\u001b[0;34m\u001b[0m\u001b[0;34m\u001b[0m\u001b[0m\n\u001b[1;32m      3\u001b[0m \u001b[0;32mdel\u001b[0m \u001b[0mB\u001b[0m\u001b[0;34m\u001b[0m\u001b[0;34m\u001b[0m\u001b[0m\n\u001b[0;32m----> 4\u001b[0;31m \u001b[0mprint\u001b[0m\u001b[0;34m(\u001b[0m\u001b[0mB\u001b[0m\u001b[0;34m)\u001b[0m\u001b[0;34m\u001b[0m\u001b[0;34m\u001b[0m\u001b[0m\n\u001b[0m",
            "\u001b[0;31mNameError\u001b[0m: name 'B' is not defined"
          ]
        }
      ]
    },
    {
      "cell_type": "code",
      "metadata": {
        "colab": {
          "base_uri": "https://localhost:8080/"
        },
        "id": "ZsQkSXTsmx0L",
        "outputId": "8dd4e94f-ab5b-4f78-f752-94afe8ee6a59"
      },
      "source": [
        "# Clear\n",
        "B = [1,2,3,4,5]\n",
        "B.clear()\n",
        "print(B)"
      ],
      "execution_count": null,
      "outputs": [
        {
          "output_type": "stream",
          "text": [
            "[]\n"
          ],
          "name": "stdout"
        }
      ]
    },
    {
      "cell_type": "markdown",
      "metadata": {
        "id": "WHk2EJaANc0x"
      },
      "source": [
        "## 17) Difference between remove and pop?"
      ]
    },
    {
      "cell_type": "code",
      "metadata": {
        "colab": {
          "base_uri": "https://localhost:8080/"
        },
        "id": "EoGTNI_koz-v",
        "outputId": "99288af0-168f-4f05-b7a2-1095744d63e9"
      },
      "source": [
        "# pop\n",
        "B = [1,2,3,4,5]\n",
        "B.pop(0)\n",
        "print(\"Claer - \",B)\n",
        "\n",
        "# Remove\n",
        "B = [1,2,3,4,5]\n",
        "B.remove(1)\n",
        "print(\"Remove -\",B)"
      ],
      "execution_count": null,
      "outputs": [
        {
          "output_type": "stream",
          "text": [
            "Claer -  [2, 3, 4, 5]\n",
            "Remove - [2, 3, 4, 5]\n"
          ],
          "name": "stdout"
        }
      ]
    },
    {
      "cell_type": "markdown",
      "metadata": {
        "id": "wG8GnmmLNc33"
      },
      "source": [
        "## 18) Difference between append and extend?"
      ]
    },
    {
      "cell_type": "code",
      "metadata": {
        "colab": {
          "base_uri": "https://localhost:8080/"
        },
        "id": "_y7nwvWmqAaw",
        "outputId": "1650f384-c59c-4f2c-a1f6-803ee1971b91"
      },
      "source": [
        "# Append  \n",
        "A = [1,2,3,4,5]\n",
        "A.append(6)\n",
        "print(A)\n",
        "\n",
        "# Extend  ***\n",
        "A = [1,2,3,4,5]\n",
        "A.extend([6,7,8,9,10])\n",
        "print(A)"
      ],
      "execution_count": null,
      "outputs": [
        {
          "output_type": "stream",
          "text": [
            "[1, 2, 3, 4, 5, 6]\n",
            "[1, 2, 3, 4, 5, 6, 7, 8, 9, 10]\n"
          ],
          "name": "stdout"
        }
      ]
    },
    {
      "cell_type": "markdown",
      "metadata": {
        "id": "Tdo1P3omrICm"
      },
      "source": [
        "## 19) Difference between indexing and Slicing?"
      ]
    },
    {
      "cell_type": "code",
      "metadata": {
        "colab": {
          "base_uri": "https://localhost:8080/"
        },
        "id": "csJbAxjUtcH9",
        "outputId": "84a4a18e-a50c-40d8-ebb4-feb7a24ddc13"
      },
      "source": [
        "A = [10,12,32,44,52,26]\n",
        "# Indexing\n",
        "print(A[0])\n",
        "# Slicing\n",
        "print(  A[1:4])"
      ],
      "execution_count": null,
      "outputs": [
        {
          "output_type": "stream",
          "text": [
            "10\n",
            "[12, 32, 44]\n"
          ],
          "name": "stdout"
        }
      ]
    },
    {
      "cell_type": "markdown",
      "metadata": {
        "id": "xEjYcdgbrNwB"
      },
      "source": [
        "## 20) Difference between sort and sorted?"
      ]
    },
    {
      "cell_type": "code",
      "metadata": {
        "colab": {
          "base_uri": "https://localhost:8080/"
        },
        "id": "Q757kaNOu-PO",
        "outputId": "be4db5a2-ecc5-4cd3-fddd-f47a34789b47"
      },
      "source": [
        "A = [2,1,4,3,5]\n",
        "# Sorted in Assending Order\n",
        "print(sorted(A))\n",
        "# Sorted in Decinding order\n",
        "peint(sorted(A,reverse= True))"
      ],
      "execution_count": null,
      "outputs": [
        {
          "output_type": "stream",
          "text": [
            "[1, 2, 3, 4, 5]\n"
          ],
          "name": "stdout"
        },
        {
          "output_type": "execute_result",
          "data": {
            "text/plain": [
              "[5, 4, 3, 2, 1]"
            ]
          },
          "metadata": {
            "tags": []
          },
          "execution_count": 52
        }
      ]
    },
    {
      "cell_type": "markdown",
      "metadata": {
        "id": "06h_RsOVrN0y"
      },
      "source": [
        "# 21) Difference between reverse and reversed?"
      ]
    },
    {
      "cell_type": "code",
      "metadata": {
        "colab": {
          "base_uri": "https://localhost:8080/"
        },
        "id": "-65TP52Xxdrs",
        "outputId": "0208c0ad-1042-4d6b-a8d5-703e814c6cb4"
      },
      "source": [
        "A = [2,1,4,3,5]\n",
        "A.reverse()\n",
        "print(A)"
      ],
      "execution_count": null,
      "outputs": [
        {
          "output_type": "stream",
          "text": [
            "[5, 3, 4, 1, 2]\n"
          ],
          "name": "stdout"
        }
      ]
    },
    {
      "cell_type": "markdown",
      "metadata": {
        "id": "gndTo39prN5s"
      },
      "source": [
        "## 22) Difference between copy and deepcopy?"
      ]
    },
    {
      "cell_type": "code",
      "metadata": {
        "id": "b76fEcYAx-4U"
      },
      "source": [
        ""
      ],
      "execution_count": null,
      "outputs": []
    },
    {
      "cell_type": "markdown",
      "metadata": {
        "id": "imeaQs0orN-C"
      },
      "source": [
        "## 23) How to remove duplicate elements in the list?"
      ]
    },
    {
      "cell_type": "code",
      "metadata": {
        "colab": {
          "base_uri": "https://localhost:8080/"
        },
        "id": "erK6pwomyIQa",
        "outputId": "5fdaf5ef-1dd7-4acd-c9dc-d4d728ae180c"
      },
      "source": [
        "A = [1,2,1,2,3,4,5,5]\n",
        "# Setis use to remove duplicate from list\n",
        "print(set(A))"
      ],
      "execution_count": null,
      "outputs": [
        {
          "output_type": "execute_result",
          "data": {
            "text/plain": [
              "{1, 2, 3, 4, 5}"
            ]
          },
          "metadata": {
            "tags": []
          },
          "execution_count": 55
        }
      ]
    },
    {
      "cell_type": "markdown",
      "metadata": {
        "id": "6iNKMT5ErOBO"
      },
      "source": [
        "\n",
        "## 24) How to find an index of an element in the python list?\n"
      ]
    },
    {
      "cell_type": "code",
      "metadata": {
        "colab": {
          "base_uri": "https://localhost:8080/"
        },
        "id": "qx2Sj2pWzhnz",
        "outputId": "63ce6b97-91c1-4c85-f5de-ee57b7a4e645"
      },
      "source": [
        "B = int(input(\"Which element index u want to know - \"))\n",
        "A = [10,40,50,30,20]\n",
        "print(A.index(B))"
      ],
      "execution_count": null,
      "outputs": [
        {
          "output_type": "stream",
          "text": [
            "Which element index u want to know - 20\n",
            "4\n"
          ],
          "name": "stdout"
        }
      ]
    },
    {
      "cell_type": "markdown",
      "metadata": {
        "id": "SpWyDnR5rOEj"
      },
      "source": [
        "## 25) How to find the occurrences of an element in the python list?\n"
      ]
    },
    {
      "cell_type": "code",
      "metadata": {
        "colab": {
          "base_uri": "https://localhost:8080/"
        },
        "id": "CQP1IQNS07xo",
        "outputId": "5fc1b55b-6e43-4a90-8ed5-084f924f14d2"
      },
      "source": [
        "B = int(input(\"Which element want to know - \"))\n",
        "A = [1,2,1,2,3,4,5,5,1,2,3,5,4]\n",
        "print(A.count(B))"
      ],
      "execution_count": null,
      "outputs": [
        {
          "output_type": "stream",
          "text": [
            "Which element want to know - 5\n",
            "3\n"
          ],
          "name": "stdout"
        }
      ]
    },
    {
      "cell_type": "markdown",
      "metadata": {
        "id": "hyxaTyJsrOH7"
      },
      "source": [
        "## 26) How to insert an item at a given position?"
      ]
    },
    {
      "cell_type": "code",
      "metadata": {
        "colab": {
          "base_uri": "https://localhost:8080/"
        },
        "id": "j9WDDiks1Xt4",
        "outputId": "f7ab4175-4426-4097-d643-7af4a13d748e"
      },
      "source": [
        "A = [1,2,1,2,3,4,5,5]\n",
        "A.insert(5,10)\n",
        "print(A)"
      ],
      "execution_count": null,
      "outputs": [
        {
          "output_type": "stream",
          "text": [
            "[1, 2, 1, 2, 3, 10, 4, 5, 5]\n"
          ],
          "name": "stdout"
        }
      ]
    },
    {
      "cell_type": "markdown",
      "metadata": {
        "id": "XcZJH4VerOLj"
      },
      "source": [
        "## 27) How to check if an item is in the list?"
      ]
    },
    {
      "cell_type": "code",
      "metadata": {
        "colab": {
          "base_uri": "https://localhost:8080/"
        },
        "id": "wvsniWtP1zcO",
        "outputId": "89c8574d-f936-4b85-9962-08a345912b65"
      },
      "source": [
        "B = int(input(\"Enter the number u want to check - \"))\n",
        "A = [1,2,1,2,3,4,5,5]\n",
        "B in A\n"
      ],
      "execution_count": null,
      "outputs": [
        {
          "output_type": "stream",
          "text": [
            "Enter the number u want to check - 5\n"
          ],
          "name": "stdout"
        },
        {
          "output_type": "execute_result",
          "data": {
            "text/plain": [
              "True"
            ]
          },
          "metadata": {
            "tags": []
          },
          "execution_count": 70
        }
      ]
    },
    {
      "cell_type": "markdown",
      "metadata": {
        "id": "q4mDCiZirOPL"
      },
      "source": [
        "## 28) How to flatten a list in python?"
      ]
    },
    {
      "cell_type": "code",
      "metadata": {
        "colab": {
          "base_uri": "https://localhost:8080/"
        },
        "id": "lvwa4b2G2qFi",
        "outputId": "ddb72ab3-d992-47fd-d11f-207605c2e99f"
      },
      "source": [
        "A =[[1,2,3],[4,5],[6]]\n",
        "print(sum(A,[]))  # Flatten\n",
        "type(A)"
      ],
      "execution_count": null,
      "outputs": [
        {
          "output_type": "stream",
          "text": [
            "[1, 2, 3, 4, 5, 6]\n"
          ],
          "name": "stdout"
        },
        {
          "output_type": "execute_result",
          "data": {
            "text/plain": [
              "list"
            ]
          },
          "metadata": {
            "tags": []
          },
          "execution_count": 75
        }
      ]
    },
    {
      "cell_type": "markdown",
      "metadata": {
        "id": "jIup6n6ArOS8"
      },
      "source": [
        "## 29) How to convert python list to other data structures like set, tuple, dictionary?"
      ]
    },
    {
      "cell_type": "code",
      "metadata": {
        "colab": {
          "base_uri": "https://localhost:8080/"
        },
        "id": "NAfJzewP3Vhj",
        "outputId": "3756856b-86de-4254-e39f-36ac1feb8430"
      },
      "source": [
        "A = [\"Pritam Poddar\",\"08/03/1997\",\"M\",24]\n",
        "B = [\"Name\",\"DOB\",\"Gender\",\"Age\"]\n",
        "# Set\n",
        "print(\"Set - \",set(A))\n",
        "# Tuple\n",
        "print(\"Tuple - \",tuple(A))\n",
        "# Dictionary\n",
        "print(\"Dictionary - \",dict(zip(B,A)))"
      ],
      "execution_count": null,
      "outputs": [
        {
          "output_type": "stream",
          "text": [
            "Set -  {24, '08/03/1997', 'Pritam Poddar', 'M'}\n",
            "Tuple -  ('Pritam Poddar', '08/03/1997', 'M', 24)\n",
            "Dictionary -  {'Name': 'Pritam Poddar', 'DOB': '08/03/1997', 'Gender': 'M', 'Age': 24}\n"
          ],
          "name": "stdout"
        }
      ]
    },
    {
      "cell_type": "markdown",
      "metadata": {
        "id": "mVdUbzQIrOWQ"
      },
      "source": [
        "## 30) How to apply a function to all items in the list?\n"
      ]
    },
    {
      "cell_type": "code",
      "metadata": {
        "colab": {
          "base_uri": "https://localhost:8080/"
        },
        "id": "Wc9hk9Yu5IAY",
        "outputId": "02baf0a8-a78a-4154-f6a4-4822ca20e3f9"
      },
      "source": [
        "B = []\n",
        "A = [10,2,3,4]\n",
        "for I in A:\n",
        "  B.append(I ** 2)\n",
        "print(B)"
      ],
      "execution_count": null,
      "outputs": [
        {
          "output_type": "stream",
          "text": [
            "[100, 4, 9, 16]\n"
          ],
          "name": "stdout"
        }
      ]
    },
    {
      "cell_type": "markdown",
      "metadata": {
        "id": "ePty1OnxrOZ5"
      },
      "source": [
        "## 31) How to filter the elements based on a function in a python list?"
      ]
    },
    {
      "cell_type": "code",
      "metadata": {
        "colab": {
          "base_uri": "https://localhost:8080/"
        },
        "id": "vjb761cD5wUF",
        "outputId": "f1848527-b5b9-4ef3-a20a-62771bd7c606"
      },
      "source": [
        "A = []\n",
        "B = []\n",
        "S = [55,60,65,70,75,80]\n",
        "for I in S:\n",
        "  if I > 70:\n",
        "    A.append(I)\n",
        "    print(\"In - \",A)\n",
        "  else:\n",
        "    B.append(I)\n",
        "    print(\"Out - \", B)"
      ],
      "execution_count": null,
      "outputs": [
        {
          "output_type": "stream",
          "text": [
            "Out -  [55]\n",
            "Out -  [55, 60]\n",
            "Out -  [55, 60, 65]\n",
            "Out -  [55, 60, 65, 70]\n",
            "In -  [75]\n",
            "In -  [75, 80]\n"
          ],
          "name": "stdout"
        }
      ]
    },
    {
      "cell_type": "markdown",
      "metadata": {
        "id": "ELRISfbqrOdE"
      },
      "source": [
        "## 32) How python lists are stored in memory?"
      ]
    },
    {
      "cell_type": "markdown",
      "metadata": {
        "id": "U5_iGdz4EwOB"
      },
      "source": [
        "### --> The list object consists of two internal parts; one object header, and one separately allocated array of objectreferences"
      ]
    }
  ]
}