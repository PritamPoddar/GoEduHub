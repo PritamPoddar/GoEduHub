{
  "nbformat": 4,
  "nbformat_minor": 0,
  "metadata": {
    "colab": {
      "name": "Assignment/Task 3.ipynb",
      "provenance": [],
      "collapsed_sections": []
    },
    "kernelspec": {
      "name": "python3",
      "display_name": "Python 3"
    },
    "language_info": {
      "name": "python"
    }
  },
  "cells": [
    {
      "cell_type": "markdown",
      "metadata": {
        "id": "RPGobV_QsMqw"
      },
      "source": [
        "# Assignment/Task 3"
      ]
    },
    {
      "cell_type": "markdown",
      "metadata": {
        "id": "NQZtMkolsO-D"
      },
      "source": [
        "### Pritam Podder \n",
        "GO_STP_55"
      ]
    },
    {
      "cell_type": "markdown",
      "metadata": {
        "id": "kehCM6pisR7T"
      },
      "source": [
        "##Q.1 Write a Python Program to sort (ascending and descending) a dictionary by value.  ***"
      ]
    },
    {
      "cell_type": "code",
      "metadata": {
        "colab": {
          "base_uri": "https://localhost:8080/"
        },
        "id": "HwM_BtWFsZcM",
        "outputId": "4941c739-d674-4aa3-8f7d-f77128aa24b1"
      },
      "source": [
        "import operator\n",
        "A = {3:30,4:40,5:50,6:60,1:10,2:20}\n",
        "print(\"Actual - \",A)\n",
        "# Ascending\n",
        "A_AO = sorted(A.items(),key= operator.itemgetter(1))\n",
        "print(\"Ascending Order - \",A_AO)\n",
        "# Ascending\n",
        "A_DO = dict(sorted(A.items(),key= operator.itemgetter(1),reverse=True))\n",
        "print(\"Ascending Order - \",A_DO)"
      ],
      "execution_count": null,
      "outputs": [
        {
          "output_type": "stream",
          "text": [
            "Actual -  {3: 30, 4: 40, 5: 50, 6: 60, 1: 10, 2: 20}\n",
            "Ascending Order -  [(1, 10), (2, 20), (3, 30), (4, 40), (5, 50), (6, 60)]\n",
            "Ascending Order -  {6: 60, 5: 50, 4: 40, 3: 30, 2: 20, 1: 10}\n"
          ],
          "name": "stdout"
        }
      ]
    },
    {
      "cell_type": "markdown",
      "metadata": {
        "id": "Xb53hL4osU9O"
      },
      "source": [
        "## Q.2 Write a Python Program to add a key to a dictionary. \n",
        "\n",
        "Sample Dictionary : {0: 10, 1: 20}\n",
        "Expected Result : {0: 10, 1: 20, 2: 30}"
      ]
    },
    {
      "cell_type": "code",
      "metadata": {
        "colab": {
          "base_uri": "https://localhost:8080/"
        },
        "id": "3zcyrYyWs9j6",
        "outputId": "f8c2ce91-3be4-48e9-ce4b-9d6c5fe37b4e"
      },
      "source": [
        "A = {6: 60, 5: 50, 4: 40}\n",
        "B = {3: 30, 2: 20, 1: 10}\n",
        "A.update(B)  # Add 2 Dictionary\n",
        "print(A)"
      ],
      "execution_count": null,
      "outputs": [
        {
          "output_type": "stream",
          "text": [
            "{6: 60, 5: 50, 4: 40, 3: 30, 2: 20, 1: 10}\n"
          ],
          "name": "stdout"
        }
      ]
    },
    {
      "cell_type": "markdown",
      "metadata": {
        "id": "CoT7iCKhs1qd"
      },
      "source": [
        "## Q.3 Write a  program asks for City name and Temperature and builds a dictionary using that Later on you can input City name and it will tell you the Temperature of that City."
      ]
    },
    {
      "cell_type": "code",
      "metadata": {
        "colab": {
          "base_uri": "https://localhost:8080/"
        },
        "id": "qaDQVyNg403H",
        "outputId": "7cbde6a0-5c66-4486-beca-9a99a31230f0"
      },
      "source": [
        "O = int(input(\"Enter number of entry - \"))\n",
        "for I in range(O):\n",
        "  A = input(\"Enter your city - \").split()\n",
        "  B = input(\"Temperature of your city - \").split()\n",
        "  C = dict(zip(A, B))\n",
        "\n",
        "D = input(\"Enter the city name for Temparature - \")\n",
        "if D in A:\n",
        "  print(\"City - \",D,\" | Temp - \",C[D])\n",
        "else:\n",
        "  print(\"City is not in the List\")"
      ],
      "execution_count": null,
      "outputs": [
        {
          "output_type": "stream",
          "text": [
            "Enter number of entry - 3\n",
            "Enter your city - Delhi\n",
            "Temperature of your city - 24\n",
            "Enter your city - Kolkata\n",
            "Temperature of your city - 30\n",
            "Enter your city - UP\n",
            "Temperature of your city - 24\n",
            "Enter the city name for Temparature - UP\n",
            "City -  UP  | Temp -  24\n"
          ],
          "name": "stdout"
        }
      ]
    },
    {
      "cell_type": "markdown",
      "metadata": {
        "id": "iSjE1EUTvSGM"
      },
      "source": [
        "## Q. 4 Write a Python program to convert list to list of dictionaries.\n",
        "\n",
        "Sample lists: [\"Black\", \"Red\", \"Maroon\", \"Yellow\"], [\"#000000\", \"#FF0000\", \"#800000\", \"#FFFF00\"]\n",
        "\n",
        "Expected Output: [{'color_name': 'Black', 'color_code': '#000000'}, {'color_name': 'Red', 'color_code': '#FF0000'}, {'color_name': 'Maroon', 'color_code': '#800000'}, {'color_name': 'Yellow', 'color_code': '#FFFF00'}]"
      ]
    },
    {
      "cell_type": "code",
      "metadata": {
        "colab": {
          "base_uri": "https://localhost:8080/"
        },
        "id": "mHBQSVaQ8tPn",
        "outputId": "9d6cefe5-2fec-4c82-806e-40a3750682cc"
      },
      "source": [
        "C = [\"Black\", \"Red\", \"Maroon\", \"Yellow\"]\n",
        "C_C = [\"#000000\", \"#FF0000\", \"#800000\", \"#FFFF00\"]\n",
        "L = []\n",
        "for I in C:\n",
        "  for J in C_C:\n",
        "    D = {'color_name': I, 'color_code': J }\n",
        "    break\n",
        "  L.append(D)\n",
        "print(L)"
      ],
      "execution_count": null,
      "outputs": [
        {
          "output_type": "stream",
          "text": [
            "[{'color_name': 'Black', 'color_code': '#000000'}, {'color_name': 'Red', 'color_code': '#000000'}, {'color_name': 'Maroon', 'color_code': '#000000'}, {'color_name': 'Yellow', 'color_code': '#000000'}]\n"
          ],
          "name": "stdout"
        }
      ]
    },
    {
      "cell_type": "markdown",
      "metadata": {
        "id": "6oufUjC98p1P"
      },
      "source": [
        "## Q. 5 We have following information on Employees and their Salary (Salary is in lakhs) \n",
        "###Employee1 & Salary\n",
        "##### John\t     - 14\n",
        "##### Smith\t    \t- 13\n",
        "##### Alice \t   - 32\n",
        "##### Daneil\t  - 21\n",
        "\n",
        "###1) Using above create a dictionary of Employees and their Salary\n",
        "###2) Write a program that asks user for three type of inputs,\n",
        "\n",
        "#####**print**: if user enter print then it should print all Employees with their Salary in this format,\n",
        "#####        John ==>14\n",
        "#####        Smith ==>13\n",
        "#####        Smith ==>13\n",
        "#####        Alice ==>32\n",
        "#####         Daneil ==>21\n",
        "#####**add**: if user input adds then it should further ask for an Employee name to add. If Employee already exists in our dataset then it should print that it exists and do nothing. If it doesn't then it asks for Salary and add that new Employee/Salary in our dictionary and print it\n",
        "#####**remove**: when user inputs remove it should ask for an Employee to remove. If an Employee exists in our dictionary then remove it and print a new dictionary using format shown above in (a). Else print that Employee doesn't exist!\n",
        "#####**query**: on this again ask the user for which Employee he or she wants to query. When a user inputs that Employee it will print the Salary of that Employee."
      ]
    },
    {
      "cell_type": "code",
      "metadata": {
        "colab": {
          "base_uri": "https://localhost:8080/"
        },
        "id": "qH-9CnVcB-2W",
        "outputId": "50b1668c-0172-4de9-9ab0-d1dcdd63edaa"
      },
      "source": [
        "# Final\n",
        "print(\"Press Print to know Detali of all Employees -\")\n",
        "print(\"Press Add to Include more Detali in Employees -\")\n",
        "print(\"Press Remove to Remove the Employees Details\")\n",
        "print(\"Press Query to Query the Employees Details\")\n",
        "A = [\"John\",\"Smith\",\"Alice\",\"Daneil\"]\n",
        "B = [\"12\",\"13\",\"32\",\"21\"]\n",
        "C = dict(zip(A,B))\n",
        "\n",
        "Z = input(\"Press Print/ Add/ Remove/ Query - \")\n",
        "\n",
        "if Z == \"Print\":\n",
        "\n",
        "  for I,J in C.items():\n",
        "    print(I,\"==>\",J)\n",
        "\n",
        "elif Z == \"Add\":\n",
        "    A_1 = input(\"Enter Employee Name - \")\n",
        "    B_1 = input(\"Enter Employees Salary - \")\n",
        "    if A_1 in A:\n",
        "      print(\"Employ Already Existing\")\n",
        "    else:\n",
        "      C[A_1] = B_1\n",
        "      print(\"Added to Employees list\")\n",
        "      for I,J in C.items():\n",
        "        print(I,\"-\",J)\n",
        "\n",
        "elif Z == \"Remove\":\n",
        "  A_2 = input(\"Enter Employee Name - \")\n",
        "  if A_2 in A:\n",
        "    print(\"Removed From Employees list\")\n",
        "    C.pop(A_2)\n",
        "    for I,J in C.items():\n",
        "      print(I,\" --\",J)\n",
        "  else:\n",
        "    print(\"Employee Not Exist\")\n",
        "elif Z == \"Query\":\n",
        "  A_3 = input(\"Enter Employee Name - \")\n",
        "  if A_3 in A :\n",
        "    print(\"Salary of \",A_3,\"is\", C[A_3])\n",
        "  else:\n",
        "    print(\"Not in this List\")\n",
        "else:\n",
        "  print(\"Sorry Cant Help You\")"
      ],
      "execution_count": null,
      "outputs": [
        {
          "output_type": "stream",
          "text": [
            "Press Print to know Detali of all Employees -\n",
            "Press Add to Include more Detali in Employees -\n",
            "Press Remove to Remove the Employees Details\n",
            "Press Query to Query the Employees Details\n",
            "Press Print/ Add/ Remove/ Query - Add\n",
            "Enter Employee Name - Pritam\n",
            "Enter Employees Salary - 25\n",
            "Added to Employees list\n",
            "John - 12\n",
            "Smith - 13\n",
            "Alice - 32\n",
            "Daneil - 21\n",
            "Pritam - 25\n"
          ],
          "name": "stdout"
        }
      ]
    },
    {
      "cell_type": "code",
      "metadata": {
        "colab": {
          "base_uri": "https://localhost:8080/"
        },
        "id": "i3oA8VgYN3Qa",
        "outputId": "848dd36b-4dbd-46b7-e655-220f9bd504ba"
      },
      "source": [
        "# Print\n",
        "A = [\"John\",\"Smith\",\"Alice\",\"Daneil\"]\n",
        "B = [\"12\",\"13\",\"32\",\"21\"]\n",
        "C = dict(zip(A,B))\n",
        "\n",
        "Z = input(\"Press Print to know Detali of all Employees - \")\n",
        "\n",
        "if Z == \"Print\":\n",
        "\n",
        "  for I,J in C.items():\n",
        "    print(I,\"==>\",J)\n",
        "else:\n",
        "  print(\"Thank You For Visiting\")"
      ],
      "execution_count": null,
      "outputs": [
        {
          "output_type": "stream",
          "text": [
            "Press Print to know Detali of all Employees - Print\n",
            "John ==> 12\n",
            "Smith ==> 13\n",
            "Alice ==> 32\n",
            "Daneil ==> 21\n"
          ],
          "name": "stdout"
        }
      ]
    },
    {
      "cell_type": "code",
      "metadata": {
        "colab": {
          "base_uri": "https://localhost:8080/"
        },
        "id": "-eTFgGeJHmZ8",
        "outputId": "fcd86a86-d620-4eaa-f8bf-303db284c709"
      },
      "source": [
        "# Add\n",
        "A = [\"John\",\"Smith\",\"Alice\",\"Daneil\"]\n",
        "B = [\"12\",\"13\",\"32\",\"21\"]\n",
        "C = dict(zip(A,B))\n",
        "\n",
        "Z = input(\"Press Add to Include more Detali in Employees - \")\n",
        "\n",
        "if Z == \"Add\":\n",
        "  A_1 = input(\"Enter Employee Name - \")\n",
        "  B_1 = input(\"Enter Employees Salary - \")\n",
        "  if A_1 in A:\n",
        "    print(\"Employ Already Existing\")\n",
        "  else:\n",
        "    print(\"Added to Employees list\")\n",
        "    C[A_1] = B_1\n",
        "    for I,J in C.items():\n",
        "      print(I,\" --\",J)"
      ],
      "execution_count": null,
      "outputs": [
        {
          "output_type": "stream",
          "text": [
            "Press Add to Include more Detali in Employees - Add\n",
            "Enter Employee Name - Pritam\n",
            "Enter Employees Salary - 25\n",
            "Added to Employees list\n",
            "John  -- 12\n",
            "Smith  -- 13\n",
            "Alice  -- 32\n",
            "Daneil  -- 21\n",
            "Pritam  -- 25\n"
          ],
          "name": "stdout"
        }
      ]
    },
    {
      "cell_type": "code",
      "metadata": {
        "id": "IDj6IiS4Gd1j"
      },
      "source": [
        ""
      ],
      "execution_count": null,
      "outputs": []
    },
    {
      "cell_type": "code",
      "metadata": {
        "colab": {
          "base_uri": "https://localhost:8080/"
        },
        "id": "D0CZ59_yjkfO",
        "outputId": "c8b04a99-86e2-4b4d-f5ee-767bd25713fc"
      },
      "source": [
        "# Pop\n",
        "A = [\"John\",\"Smith\",\"Alice\",\"Daneil\"]\n",
        "B = [\"12\",\"13\",\"32\",\"21\"]\n",
        "C = dict(zip(A,B))\n",
        "\n",
        "Z = input(\"Press Remove to Remove Employees Details - \")\n",
        "\n",
        "if Z == \"Remove\":\n",
        "  A_2 = input(\"Enter Employee Name - \")\n",
        "  if A_2 in A:\n",
        "    print(\"Removed From Employees list\")\n",
        "    C.pop(A_2)\n",
        "    for I,J in C.items():\n",
        "      print(I,\" --\",J)\n",
        "  else:\n",
        "    print(\"Employ Not Exist\")"
      ],
      "execution_count": null,
      "outputs": [
        {
          "output_type": "stream",
          "text": [
            "Press Remove to Remove Employees Details - Remove\n",
            "Enter Employee Name - Alice\n",
            "Removed From Employees list\n",
            "John  -- 12\n",
            "Smith  -- 13\n",
            "Daneil  -- 21\n"
          ],
          "name": "stdout"
        }
      ]
    },
    {
      "cell_type": "code",
      "metadata": {
        "colab": {
          "base_uri": "https://localhost:8080/"
        },
        "id": "vxjgKoSEpGwP",
        "outputId": "46e09f3b-033f-4b80-a7dc-2699fb355777"
      },
      "source": [
        "# Query\n",
        "A = [\"John\",\"Smith\",\"Alice\",\"Daneil\"]\n",
        "B = [\"12\",\"13\",\"32\",\"21\"]\n",
        "C = dict(zip(A,B))\n",
        "\n",
        "Z = input(\"Press Query for Employees Details - \")\n",
        "\n",
        "if Z == \"Query\":\n",
        "  A_3 = input(\"Enter Employee Name - \")\n",
        "  if A_3 in A :\n",
        "    print(\"Salary of \",A_3,\"is\", C[A_3])\n",
        "  else:\n",
        "    print(\"Not in this List\")"
      ],
      "execution_count": null,
      "outputs": [
        {
          "output_type": "stream",
          "text": [
            "Press Query for Employees Details - Query\n",
            "Enter Employee Name - Alice\n",
            "Salary of  Alice is 32\n"
          ],
          "name": "stdout"
        }
      ]
    },
    {
      "cell_type": "markdown",
      "metadata": {
        "id": "bRf2u9Ew8p-F"
      },
      "source": [
        "# Questions on Sets-\n",
        "\n"
      ]
    },
    {
      "cell_type": "markdown",
      "metadata": {
        "id": "8vW96Tpk8qBL"
      },
      "source": [
        "### Q.1 What is the difference between a set and a frozenset? Create any set and try to use frozenset(setname)."
      ]
    },
    {
      "cell_type": "code",
      "metadata": {
        "colab": {
          "base_uri": "https://localhost:8080/"
        },
        "id": "UnrqdvVBtXBY",
        "outputId": "476b1e4c-27b8-42e4-a590-bb8b94c97ec0"
      },
      "source": [
        "S = set([1,2,3,4,5,5,4,3,2,1])\n",
        "print(S)\n",
        "\n",
        "# Add in Set\n",
        "S.add(6)\n",
        "print(S)\n",
        "\n",
        "#  Frozenset(setname)\n",
        "F = frozenset ([1,2,3,4,5,1,2,3,4,5,1,5,4,3,2,1,])\n",
        "print(F)"
      ],
      "execution_count": null,
      "outputs": [
        {
          "output_type": "stream",
          "text": [
            "{1, 2, 3, 4, 5}\n",
            "{1, 2, 3, 4, 5, 6}\n",
            "frozenset({1, 2, 3, 4, 5})\n"
          ],
          "name": "stdout"
        }
      ]
    },
    {
      "cell_type": "markdown",
      "metadata": {
        "id": "8EBgw-Koue2f"
      },
      "source": [
        "### Q.2 Find the elements in a given set that are not in another set\n",
        "\n",
        "###    set1 = {10,20,30,40,50}\n",
        "\n",
        "###    set2 = {40,50,60,70,80}\n",
        "\n",
        "### Difference between set1 and set2 is {10,20,30}"
      ]
    },
    {
      "cell_type": "code",
      "metadata": {
        "colab": {
          "base_uri": "https://localhost:8080/"
        },
        "id": "tWaHlQJ1ufNP",
        "outputId": "bebf9dd4-e5b1-4093-a37b-a163e5f7cf1e"
      },
      "source": [
        "Set1={10,20,30,40,50}\n",
        "Set2={40,50,60,70,80}\n",
        "\n",
        "print(Set1.difference(Set2))\n",
        "print(Set2.difference(Set1))"
      ],
      "execution_count": null,
      "outputs": [
        {
          "output_type": "stream",
          "text": [
            "{10, 20, 30}\n",
            "{80, 60, 70}\n"
          ],
          "name": "stdout"
        }
      ]
    },
    {
      "cell_type": "markdown",
      "metadata": {
        "id": "ATdaRr7Lrwfr"
      },
      "source": [
        "## Class Data set"
      ]
    },
    {
      "cell_type": "code",
      "metadata": {
        "id": "anz7FZQQVEmB",
        "colab": {
          "base_uri": "https://localhost:8080/"
        },
        "outputId": "e15df2dd-6315-4ec8-d0b0-0cc9796c0b20"
      },
      "source": [
        "# Final_\n",
        "\n",
        "print(\"Press |Add|to Add more Detali in Students Data base -\")\n",
        "print(\"Press |Remove| to Remove the Student Details\")\n",
        "print(\"Press |Query| to Query the Students Details\")\n",
        "print(\"Press |Print| to know Detali of all Students -\")\n",
        "print(\" Add/ Remove/ Query/ Print \")\n",
        "\n",
        "R = [\"20041\",\"20042\"]   # Roll\n",
        "N = [\"Priya\",\"Priyanka\"]  #Name\n",
        "# S1 = [\"F\",\"F\"]   # 1st Specalization\n",
        "# S2 = [\"BA3\",\"BA3\"]   # 2nd Specalization\n",
        "# E = [\"F3\",\"F3\"]   # Section for 1st Specialization Section\n",
        "# E1 = [\"BA3\",\"BA3\"]   # Section for 2nd Specialization Section\n",
        "\n",
        "P = zip(R,N)  ## ,S1,S2,E,E1)\n",
        "C = dict(P)\n",
        "\n",
        "Z = input(\"Press any option from obove option - \")\n",
        "\n",
        "# Add\n",
        "if Z == \"Add\":\n",
        "    R_1 = input(\"Roll Number - \")\n",
        "    N_1 = input(\"Enter Student Full Name - \")\n",
        "    #  print(\"Ans in Short (F = Finance/ M = Marketing/ HR)\")\n",
        "    #  S1_1 = input(\"Enter Your 1st Specialization - \")\n",
        "    #  print(\"Ans in Short (BA/ DM/ HR/ F/ M/ OPR/ IB)\")\n",
        "    #  S2_1 = input(\"Enter Your 2nd Specialization - \")\n",
        "    #  print(\"M1/ M2/ M3 /M4 /M5 /F1 /F2 /F3 /HR\")\n",
        "    #  E_1 = input(\"1st Specialization Section - \")\n",
        "    #  print(\"BA1 /BA2 /BA3 /M5 /F2 /HR /OPR /IB /DM\")\n",
        "    #  E1_1 = input(\"2nd Specialization Section - \")\n",
        "    if R_1 in R:\n",
        "      print(\"Employ Already Existing\")\n",
        "    else:\n",
        "      C[R_1]=N_1\n",
        "      #N.append(N_1)\n",
        "      #S1.append(S1_1)\n",
        "      #S2.append(S2_1)\n",
        "      #R.append(R_1)\n",
        "      #E.append(E_1)\n",
        "      #E1.append(E1_1)\n",
        "      \n",
        "      print(\"Added to Student Record\")\n",
        "      for I,J in C.items():  ## -> ,I1,J2,I3,J3\n",
        "        print(J,\"-\",I)  ## -> ,I1,\"-\",J1,I1,\"-\",J2)\n",
        "\n",
        "# Remove\n",
        "elif Z == \"Remove\":\n",
        "  R_1 = input(\"Enter Student Roll Number - \")\n",
        "  if R_1 in R:\n",
        "    print(\"Removed From Student Database\")\n",
        "    C.pop(R_1)\n",
        "    for R_1,J in C.items():\n",
        "      print(\"Remaning Students are :- \")\n",
        "      print(R_1,\"-\",J)\n",
        "  else:\n",
        "    print(\"Student Not Exist\")\n",
        "\n",
        "  # Query\n",
        "elif Z == \"Query\":\n",
        "  R_1 = input(\"Enter Student Roll Number - \")\n",
        "  if R_1 in R :\n",
        "    print(\"Roll No of \",R_1,\"is\", C[R_1])\n",
        "  else:\n",
        "    print(\"Not in this List\")\n",
        "\n",
        "# Print\n",
        "elif Z == \"Print\":\n",
        "\n",
        "  for I,J in C.items():\n",
        "    print(I,\"==>\",J)\n",
        "\n",
        "else:\n",
        "\n",
        "  print(\"Sorry Cant Help You\")"
      ],
      "execution_count": null,
      "outputs": [
        {
          "output_type": "stream",
          "text": [
            "Press |Add|to Add more Detali in Students Data base -\n",
            "Press |Remove| to Remove the Student Details\n",
            "Press |Query| to Query the Students Details\n",
            "Press |Print| to know Detali of all Students -\n",
            " Add/ Remove/ Query/ Print \n",
            "Press any option from obove option - Add\n",
            "Roll Number - 20040\n",
            "Enter Student Full Name - Pritam\n",
            "Added to Student Record\n",
            "Priya - 20041\n",
            "Priyanka - 20042\n",
            "Pritam - 20040\n"
          ],
          "name": "stdout"
        }
      ]
    }
  ]
}