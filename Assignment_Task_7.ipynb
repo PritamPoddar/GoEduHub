{
  "nbformat": 4,
  "nbformat_minor": 0,
  "metadata": {
    "colab": {
      "name": "Assignment/Task 7",
      "provenance": [],
      "collapsed_sections": [],
      "toc_visible": true
    },
    "kernelspec": {
      "name": "python3",
      "display_name": "Python 3"
    },
    "language_info": {
      "name": "python"
    }
  },
  "cells": [
    {
      "cell_type": "markdown",
      "metadata": {
        "id": "mk6m0GBMlswY"
      },
      "source": [
        "# Assignment/Task 7"
      ]
    },
    {
      "cell_type": "markdown",
      "metadata": {
        "id": "uJj4yvSgmEwv"
      },
      "source": [
        "### Pritam Poddar \n",
        "GO_STP_55"
      ]
    },
    {
      "cell_type": "markdown",
      "metadata": {
        "id": "fRmHPF3QmT_d"
      },
      "source": [
        "###Prediction using Supervised Machine Learning using Simple Linear Regression\n",
        "\n",
        "#####In this task we have to find the students scores based on their study hours. This is a simple Regression problem type because it has only two variables. "
      ]
    },
    {
      "cell_type": "code",
      "metadata": {
        "id": "KAubdIEAmSuV"
      },
      "source": [
        "# Import nessery package.\n",
        "import numpy as NP\n",
        "import pandas as PD\n",
        "import matplotlib.pyplot as Plt"
      ],
      "execution_count": null,
      "outputs": []
    },
    {
      "cell_type": "code",
      "metadata": {
        "colab": {
          "base_uri": "https://localhost:8080/"
        },
        "id": "LncKHFAanVmD",
        "outputId": "595b3592-d83f-40e8-af25-60f200af6761"
      },
      "source": [
        "# Import Data\n",
        "My_Data = PD.read_csv(\"StudentHoursScores.csv\")\n",
        "print(My_Data)"
      ],
      "execution_count": null,
      "outputs": [
        {
          "output_type": "stream",
          "text": [
            "    Hours  Scores\n",
            "0     7.7      79\n",
            "1     5.9      60\n",
            "2     4.5      45\n",
            "3     3.3      33\n",
            "4     1.1      12\n",
            "5     8.9      87\n",
            "6     2.5      21\n",
            "7     1.9      19\n",
            "8     2.7      29\n",
            "9     8.3      81\n",
            "10    5.5      58\n",
            "11    9.2      88\n",
            "12    1.5      14\n",
            "13    3.5      34\n",
            "14    8.5      85\n",
            "15    3.2      32\n",
            "16    6.5      66\n",
            "17    2.5      21\n",
            "18    9.6      96\n",
            "19    4.3      42\n",
            "20    4.1      40\n",
            "21    3.0      30\n",
            "22    2.6      25\n"
          ],
          "name": "stdout"
        }
      ]
    },
    {
      "cell_type": "code",
      "metadata": {
        "colab": {
          "base_uri": "https://localhost:8080/",
          "height": 206
        },
        "id": "qT6ujDkKn8gO",
        "outputId": "08228dde-829b-4cbf-b23e-cde5794394d2"
      },
      "source": [
        "My_Data.head()"
      ],
      "execution_count": null,
      "outputs": [
        {
          "output_type": "execute_result",
          "data": {
            "text/html": [
              "<div>\n",
              "<style scoped>\n",
              "    .dataframe tbody tr th:only-of-type {\n",
              "        vertical-align: middle;\n",
              "    }\n",
              "\n",
              "    .dataframe tbody tr th {\n",
              "        vertical-align: top;\n",
              "    }\n",
              "\n",
              "    .dataframe thead th {\n",
              "        text-align: right;\n",
              "    }\n",
              "</style>\n",
              "<table border=\"1\" class=\"dataframe\">\n",
              "  <thead>\n",
              "    <tr style=\"text-align: right;\">\n",
              "      <th></th>\n",
              "      <th>Hours</th>\n",
              "      <th>Scores</th>\n",
              "    </tr>\n",
              "  </thead>\n",
              "  <tbody>\n",
              "    <tr>\n",
              "      <th>0</th>\n",
              "      <td>7.7</td>\n",
              "      <td>79</td>\n",
              "    </tr>\n",
              "    <tr>\n",
              "      <th>1</th>\n",
              "      <td>5.9</td>\n",
              "      <td>60</td>\n",
              "    </tr>\n",
              "    <tr>\n",
              "      <th>2</th>\n",
              "      <td>4.5</td>\n",
              "      <td>45</td>\n",
              "    </tr>\n",
              "    <tr>\n",
              "      <th>3</th>\n",
              "      <td>3.3</td>\n",
              "      <td>33</td>\n",
              "    </tr>\n",
              "    <tr>\n",
              "      <th>4</th>\n",
              "      <td>1.1</td>\n",
              "      <td>12</td>\n",
              "    </tr>\n",
              "  </tbody>\n",
              "</table>\n",
              "</div>"
            ],
            "text/plain": [
              "   Hours  Scores\n",
              "0    7.7      79\n",
              "1    5.9      60\n",
              "2    4.5      45\n",
              "3    3.3      33\n",
              "4    1.1      12"
            ]
          },
          "metadata": {
            "tags": []
          },
          "execution_count": 8
        }
      ]
    },
    {
      "cell_type": "code",
      "metadata": {
        "colab": {
          "base_uri": "https://localhost:8080/",
          "height": 206
        },
        "id": "QLbWrDhqoBcA",
        "outputId": "3168a719-f709-4aa5-869d-80e9af5fc0ba"
      },
      "source": [
        "My_Data.tail()"
      ],
      "execution_count": null,
      "outputs": [
        {
          "output_type": "execute_result",
          "data": {
            "text/html": [
              "<div>\n",
              "<style scoped>\n",
              "    .dataframe tbody tr th:only-of-type {\n",
              "        vertical-align: middle;\n",
              "    }\n",
              "\n",
              "    .dataframe tbody tr th {\n",
              "        vertical-align: top;\n",
              "    }\n",
              "\n",
              "    .dataframe thead th {\n",
              "        text-align: right;\n",
              "    }\n",
              "</style>\n",
              "<table border=\"1\" class=\"dataframe\">\n",
              "  <thead>\n",
              "    <tr style=\"text-align: right;\">\n",
              "      <th></th>\n",
              "      <th>Hours</th>\n",
              "      <th>Scores</th>\n",
              "    </tr>\n",
              "  </thead>\n",
              "  <tbody>\n",
              "    <tr>\n",
              "      <th>18</th>\n",
              "      <td>9.6</td>\n",
              "      <td>96</td>\n",
              "    </tr>\n",
              "    <tr>\n",
              "      <th>19</th>\n",
              "      <td>4.3</td>\n",
              "      <td>42</td>\n",
              "    </tr>\n",
              "    <tr>\n",
              "      <th>20</th>\n",
              "      <td>4.1</td>\n",
              "      <td>40</td>\n",
              "    </tr>\n",
              "    <tr>\n",
              "      <th>21</th>\n",
              "      <td>3.0</td>\n",
              "      <td>30</td>\n",
              "    </tr>\n",
              "    <tr>\n",
              "      <th>22</th>\n",
              "      <td>2.6</td>\n",
              "      <td>25</td>\n",
              "    </tr>\n",
              "  </tbody>\n",
              "</table>\n",
              "</div>"
            ],
            "text/plain": [
              "    Hours  Scores\n",
              "18    9.6      96\n",
              "19    4.3      42\n",
              "20    4.1      40\n",
              "21    3.0      30\n",
              "22    2.6      25"
            ]
          },
          "metadata": {
            "tags": []
          },
          "execution_count": 10
        }
      ]
    },
    {
      "cell_type": "code",
      "metadata": {
        "colab": {
          "base_uri": "https://localhost:8080/"
        },
        "id": "uv4UCeFyoZG3",
        "outputId": "6858700a-729b-4692-da56-c01bd9e4fc80"
      },
      "source": [
        "# To check the type of Data in column\n",
        "My_Data.dtypes"
      ],
      "execution_count": null,
      "outputs": [
        {
          "output_type": "execute_result",
          "data": {
            "text/plain": [
              "Hours     float64\n",
              "Scores      int64\n",
              "dtype: object"
            ]
          },
          "metadata": {
            "tags": []
          },
          "execution_count": 18
        }
      ]
    },
    {
      "cell_type": "code",
      "metadata": {
        "colab": {
          "base_uri": "https://localhost:8080/"
        },
        "id": "WClFVZ4vooDf",
        "outputId": "ce8837af-a143-4ea1-9a51-72164f3b5e6a"
      },
      "source": [
        "# To check the type of Data\n",
        "type(My_Data)"
      ],
      "execution_count": null,
      "outputs": [
        {
          "output_type": "execute_result",
          "data": {
            "text/plain": [
              "pandas.core.frame.DataFrame"
            ]
          },
          "metadata": {
            "tags": []
          },
          "execution_count": 19
        }
      ]
    },
    {
      "cell_type": "code",
      "metadata": {
        "colab": {
          "base_uri": "https://localhost:8080/"
        },
        "id": "PqMPwfrToE_3",
        "outputId": "ab34ddd0-5519-48f0-9e91-aac2b71c4d2a"
      },
      "source": [
        "# What are the columns in that Data_Set\n",
        "My_Data.columns"
      ],
      "execution_count": null,
      "outputs": [
        {
          "output_type": "execute_result",
          "data": {
            "text/plain": [
              "Index(['Hours', 'Scores'], dtype='object')"
            ]
          },
          "metadata": {
            "tags": []
          },
          "execution_count": 24
        }
      ]
    },
    {
      "cell_type": "code",
      "metadata": {
        "colab": {
          "base_uri": "https://localhost:8080/"
        },
        "id": "P34OLcWspcb6",
        "outputId": "d2590910-629d-474b-8712-320e83d99cce"
      },
      "source": [
        "# Shape is use to see how many column and Rows in the Data\n",
        "My_Data.shape"
      ],
      "execution_count": null,
      "outputs": [
        {
          "output_type": "execute_result",
          "data": {
            "text/plain": [
              "(23, 2)"
            ]
          },
          "metadata": {
            "tags": []
          },
          "execution_count": 27
        }
      ]
    },
    {
      "cell_type": "code",
      "metadata": {
        "colab": {
          "base_uri": "https://localhost:8080/"
        },
        "id": "0ZButG4Cu3VV",
        "outputId": "182c54dd-25c9-485b-8f1d-a8180f63d601"
      },
      "source": [
        "My_Data.info()"
      ],
      "execution_count": null,
      "outputs": [
        {
          "output_type": "stream",
          "text": [
            "<class 'pandas.core.frame.DataFrame'>\n",
            "RangeIndex: 23 entries, 0 to 22\n",
            "Data columns (total 2 columns):\n",
            " #   Column  Non-Null Count  Dtype  \n",
            "---  ------  --------------  -----  \n",
            " 0   Hours   23 non-null     float64\n",
            " 1   Scores  23 non-null     int64  \n",
            "dtypes: float64(1), int64(1)\n",
            "memory usage: 496.0 bytes\n"
          ],
          "name": "stdout"
        }
      ]
    },
    {
      "cell_type": "code",
      "metadata": {
        "colab": {
          "base_uri": "https://localhost:8080/"
        },
        "id": "w6KiKu4xvJSn",
        "outputId": "07c1d066-9c6c-4240-a980-5b874c12e0a2"
      },
      "source": [
        "# Max\n",
        "print(My_Data.min())\n",
        "\n",
        "# Min\n",
        "print(My_Data.max())"
      ],
      "execution_count": null,
      "outputs": [
        {
          "output_type": "stream",
          "text": [
            "Hours      1.1\n",
            "Scores    12.0\n",
            "dtype: float64\n",
            "Hours      9.6\n",
            "Scores    96.0\n",
            "dtype: float64\n"
          ],
          "name": "stdout"
        }
      ]
    },
    {
      "cell_type": "code",
      "metadata": {
        "colab": {
          "base_uri": "https://localhost:8080/",
          "height": 300
        },
        "id": "-ToVlQsKvUKj",
        "outputId": "95b143f3-a70b-4e22-94c5-8ea642f08ab2"
      },
      "source": [
        "My_Data.describe()"
      ],
      "execution_count": null,
      "outputs": [
        {
          "output_type": "execute_result",
          "data": {
            "text/html": [
              "<div>\n",
              "<style scoped>\n",
              "    .dataframe tbody tr th:only-of-type {\n",
              "        vertical-align: middle;\n",
              "    }\n",
              "\n",
              "    .dataframe tbody tr th {\n",
              "        vertical-align: top;\n",
              "    }\n",
              "\n",
              "    .dataframe thead th {\n",
              "        text-align: right;\n",
              "    }\n",
              "</style>\n",
              "<table border=\"1\" class=\"dataframe\">\n",
              "  <thead>\n",
              "    <tr style=\"text-align: right;\">\n",
              "      <th></th>\n",
              "      <th>Hours</th>\n",
              "      <th>Scores</th>\n",
              "    </tr>\n",
              "  </thead>\n",
              "  <tbody>\n",
              "    <tr>\n",
              "      <th>count</th>\n",
              "      <td>23.000000</td>\n",
              "      <td>23.000000</td>\n",
              "    </tr>\n",
              "    <tr>\n",
              "      <th>mean</th>\n",
              "      <td>4.817391</td>\n",
              "      <td>47.695652</td>\n",
              "    </tr>\n",
              "    <tr>\n",
              "      <th>std</th>\n",
              "      <td>2.709688</td>\n",
              "      <td>27.103228</td>\n",
              "    </tr>\n",
              "    <tr>\n",
              "      <th>min</th>\n",
              "      <td>1.100000</td>\n",
              "      <td>12.000000</td>\n",
              "    </tr>\n",
              "    <tr>\n",
              "      <th>25%</th>\n",
              "      <td>2.650000</td>\n",
              "      <td>27.000000</td>\n",
              "    </tr>\n",
              "    <tr>\n",
              "      <th>50%</th>\n",
              "      <td>4.100000</td>\n",
              "      <td>40.000000</td>\n",
              "    </tr>\n",
              "    <tr>\n",
              "      <th>75%</th>\n",
              "      <td>7.100000</td>\n",
              "      <td>72.500000</td>\n",
              "    </tr>\n",
              "    <tr>\n",
              "      <th>max</th>\n",
              "      <td>9.600000</td>\n",
              "      <td>96.000000</td>\n",
              "    </tr>\n",
              "  </tbody>\n",
              "</table>\n",
              "</div>"
            ],
            "text/plain": [
              "           Hours     Scores\n",
              "count  23.000000  23.000000\n",
              "mean    4.817391  47.695652\n",
              "std     2.709688  27.103228\n",
              "min     1.100000  12.000000\n",
              "25%     2.650000  27.000000\n",
              "50%     4.100000  40.000000\n",
              "75%     7.100000  72.500000\n",
              "max     9.600000  96.000000"
            ]
          },
          "metadata": {
            "tags": []
          },
          "execution_count": 36
        }
      ]
    },
    {
      "cell_type": "code",
      "metadata": {
        "colab": {
          "base_uri": "https://localhost:8080/",
          "height": 112
        },
        "id": "cKpPdQufvwoV",
        "outputId": "e087aa03-7c83-44df-b130-0b6096603223"
      },
      "source": [
        "# Correlation\n",
        "My_Data.corr()"
      ],
      "execution_count": null,
      "outputs": [
        {
          "output_type": "execute_result",
          "data": {
            "text/html": [
              "<div>\n",
              "<style scoped>\n",
              "    .dataframe tbody tr th:only-of-type {\n",
              "        vertical-align: middle;\n",
              "    }\n",
              "\n",
              "    .dataframe tbody tr th {\n",
              "        vertical-align: top;\n",
              "    }\n",
              "\n",
              "    .dataframe thead th {\n",
              "        text-align: right;\n",
              "    }\n",
              "</style>\n",
              "<table border=\"1\" class=\"dataframe\">\n",
              "  <thead>\n",
              "    <tr style=\"text-align: right;\">\n",
              "      <th></th>\n",
              "      <th>Hours</th>\n",
              "      <th>Scores</th>\n",
              "    </tr>\n",
              "  </thead>\n",
              "  <tbody>\n",
              "    <tr>\n",
              "      <th>Hours</th>\n",
              "      <td>1.000000</td>\n",
              "      <td>0.997656</td>\n",
              "    </tr>\n",
              "    <tr>\n",
              "      <th>Scores</th>\n",
              "      <td>0.997656</td>\n",
              "      <td>1.000000</td>\n",
              "    </tr>\n",
              "  </tbody>\n",
              "</table>\n",
              "</div>"
            ],
            "text/plain": [
              "           Hours    Scores\n",
              "Hours   1.000000  0.997656\n",
              "Scores  0.997656  1.000000"
            ]
          },
          "metadata": {
            "tags": []
          },
          "execution_count": 40
        }
      ]
    },
    {
      "cell_type": "code",
      "metadata": {
        "colab": {
          "base_uri": "https://localhost:8080/"
        },
        "id": "KPX0q1wUv2QA",
        "outputId": "1edea978-1a16-4c5f-f322-454110b3cb38"
      },
      "source": [
        "My_Data.nunique()"
      ],
      "execution_count": null,
      "outputs": [
        {
          "output_type": "execute_result",
          "data": {
            "text/plain": [
              "Hours     22\n",
              "Scores    22\n",
              "dtype: int64"
            ]
          },
          "metadata": {
            "tags": []
          },
          "execution_count": 43
        }
      ]
    },
    {
      "cell_type": "markdown",
      "metadata": {
        "id": "JhjGg9oqwNaE"
      },
      "source": [
        "### Visulization using scatter plot"
      ]
    },
    {
      "cell_type": "code",
      "metadata": {
        "colab": {
          "base_uri": "https://localhost:8080/",
          "height": 313
        },
        "id": "Q6Klxra_wMlA",
        "outputId": "b236d859-5180-4e60-bfc1-846ca9932b84"
      },
      "source": [
        "X = My_Data[\"Hours\"]\n",
        "Y = My_Data[\"Scores\"]\n",
        "Plt.xlabel(\"Hours\")\n",
        "Plt.ylabel(\"Scores\")\n",
        "Plt.title(\"Score Vs Hours\")\n",
        "Plt.scatter(X,Y,color = \"Red\", marker=\"+\")"
      ],
      "execution_count": null,
      "outputs": [
        {
          "output_type": "execute_result",
          "data": {
            "text/plain": [
              "<matplotlib.collections.PathCollection at 0x7fa6fa98de10>"
            ]
          },
          "metadata": {
            "tags": []
          },
          "execution_count": 48
        },
        {
          "output_type": "display_data",
          "data": {
            "image/png": "[encoded data removed]",
            "text/plain": [
              "<Figure size 432x288 with 1 Axes>"
            ]
          },
          "metadata": {
            "tags": [],
            "needs_background": "light"
          }
        }
      ]
    },
    {
      "cell_type": "markdown",
      "metadata": {
        "id": "wd42YD6OyXxx"
      },
      "source": [
        "### Convert into 2D array"
      ]
    },
    {
      "cell_type": "code",
      "metadata": {
        "colab": {
          "base_uri": "https://localhost:8080/"
        },
        "id": "h-JhSzR6yW2E",
        "outputId": "dc10a46d-3ea5-44cc-90ad-aed6a50ac0c9"
      },
      "source": [
        "X = My_Data.iloc[:,:-1].values  #[ : ,0:-1] It will take all Row and All Column Except Lat one(-1)  # 2D \n",
        "Y = My_Data.iloc[:,1].values  # 1D Array\n",
        "\n",
        "print(X)\n",
        "print(Y)"
      ],
      "execution_count": null,
      "outputs": [
        {
          "output_type": "stream",
          "text": [
            "[[7.7]\n",
            " [5.9]\n",
            " [4.5]\n",
            " [3.3]\n",
            " [1.1]\n",
            " [8.9]\n",
            " [2.5]\n",
            " [1.9]\n",
            " [2.7]\n",
            " [8.3]\n",
            " [5.5]\n",
            " [9.2]\n",
            " [1.5]\n",
            " [3.5]\n",
            " [8.5]\n",
            " [3.2]\n",
            " [6.5]\n",
            " [2.5]\n",
            " [9.6]\n",
            " [4.3]\n",
            " [4.1]\n",
            " [3. ]\n",
            " [2.6]]\n",
            "[79 60 45 33 12 87 21 19 29 81 58 88 14 34 85 32 66 21 96 42 40 30 25]\n"
          ],
          "name": "stdout"
        }
      ]
    },
    {
      "cell_type": "markdown",
      "metadata": {
        "id": "BwtjO6VAxa19"
      },
      "source": [
        "### Splitting of My_Data into Test and Train"
      ]
    },
    {
      "cell_type": "code",
      "metadata": {
        "id": "5bfvuViCxC3Q"
      },
      "source": [
        "# Import of Sklearn (For Test and Train)\n",
        "\n",
        "import sklearn\n",
        "from sklearn.model_selection import train_test_split\n",
        "\n",
        "# 1st X then Y \n",
        "Xtrain,Xtest,Ytrain,Ytest = train_test_split(X,Y,test_size=1/3,random_state=1)"
      ],
      "execution_count": null,
      "outputs": []
    },
    {
      "cell_type": "markdown",
      "metadata": {
        "id": "aIdozlE6yC6j"
      },
      "source": [
        "### Creat Simple Linear Model"
      ]
    },
    {
      "cell_type": "code",
      "metadata": {
        "colab": {
          "base_uri": "https://localhost:8080/"
        },
        "id": "sxtW5blyx3lZ",
        "outputId": "6d2d9b03-2d7a-4ea4-f82d-3a32e0d558de"
      },
      "source": [
        "from sklearn.linear_model import LinearRegression\n",
        "My_Data_M = LinearRegression()  # Y = Ax+B\n",
        "\n",
        "My_Data_M.fit(Xtrain,Ytrain)\n",
        "\n",
        "# Model is Ready"
      ],
      "execution_count": null,
      "outputs": [
        {
          "output_type": "execute_result",
          "data": {
            "text/plain": [
              "LinearRegression(copy_X=True, fit_intercept=True, n_jobs=None, normalize=False)"
            ]
          },
          "metadata": {
            "tags": []
          },
          "execution_count": 60
        }
      ]
    },
    {
      "cell_type": "markdown",
      "metadata": {
        "id": "8vEkXvGhzelR"
      },
      "source": [
        "### Prediction"
      ]
    },
    {
      "cell_type": "markdown",
      "metadata": {
        "id": "FkYMOHeN3nIf"
      },
      "source": [
        "**Differecence Between Data_Set_Pedict is Predicted by model and Ytest is the actual**"
      ]
    },
    {
      "cell_type": "code",
      "metadata": {
        "id": "ewOyQS4mzIMT"
      },
      "source": [
        "  My_Data_Pred = My_Data_M.predict(Xtest)"
      ],
      "execution_count": null,
      "outputs": []
    },
    {
      "cell_type": "code",
      "metadata": {
        "colab": {
          "base_uri": "https://localhost:8080/"
        },
        "id": "stGb5yvC1sPX",
        "outputId": "d8dab79f-cc26-461e-d68d-1993e28341e3"
      },
      "source": [
        "# Predicted value of Xtest\n",
        "My_Data_Pred"
      ],
      "execution_count": null,
      "outputs": [
        {
          "output_type": "execute_result",
          "data": {
            "text/plain": [
              "array([40.50038393, 24.63061172, 32.56549782, 34.54921935, 42.48410545,\n",
              "       64.30504223, 54.3864346 , 10.74456104])"
            ]
          },
          "metadata": {
            "tags": []
          },
          "execution_count": 79
        }
      ]
    },
    {
      "cell_type": "code",
      "metadata": {
        "colab": {
          "base_uri": "https://localhost:8080/"
        },
        "id": "-0jneEHw2EbJ",
        "outputId": "a2973f94-5d48-4187-dafa-d062b48972a1"
      },
      "source": [
        "# Actualm value of Ytest(Corrospondent to Xtest)\n",
        "Ytest"
      ],
      "execution_count": null,
      "outputs": [
        {
          "output_type": "execute_result",
          "data": {
            "text/plain": [
              "array([40, 21, 33, 34, 42, 66, 58, 12])"
            ]
          },
          "metadata": {
            "tags": []
          },
          "execution_count": 81
        }
      ]
    },
    {
      "cell_type": "code",
      "metadata": {
        "colab": {
          "base_uri": "https://localhost:8080/"
        },
        "id": "8VI3lN0Z1ycA",
        "outputId": "0024d015-243a-414f-a15e-f123c3d2e1cd"
      },
      "source": [
        "# Predicting the Value for 9.25Hrs Score\n",
        "My_Data_M.predict([[9.25]])"
      ],
      "execution_count": null,
      "outputs": [
        {
          "output_type": "execute_result",
          "data": {
            "text/plain": [
              "array([91.58121321])"
            ]
          },
          "metadata": {
            "tags": []
          },
          "execution_count": 83
        }
      ]
    },
    {
      "cell_type": "code",
      "metadata": {
        "colab": {
          "base_uri": "https://localhost:8080/"
        },
        "id": "GQHuOdM3394-",
        "outputId": "766c3987-765a-4299-f917-f5180c4bace2"
      },
      "source": [
        "# To find Coffecinet (A)\n",
        "My_Data_M.coef_"
      ],
      "execution_count": null,
      "outputs": [
        {
          "output_type": "execute_result",
          "data": {
            "text/plain": [
              "array([9.91860763])"
            ]
          },
          "metadata": {
            "tags": []
          },
          "execution_count": 85
        }
      ]
    },
    {
      "cell_type": "code",
      "metadata": {
        "colab": {
          "base_uri": "https://localhost:8080/"
        },
        "id": "FEppD8--4Bz9",
        "outputId": "fbdb6af3-3783-42bd-db72-045a091d326f"
      },
      "source": [
        "# To check the intercept (B)\n",
        "My_Data_M.intercept_"
      ],
      "execution_count": null,
      "outputs": [
        {
          "output_type": "execute_result",
          "data": {
            "text/plain": [
              "-0.16590734578961275"
            ]
          },
          "metadata": {
            "tags": []
          },
          "execution_count": 86
        }
      ]
    },
    {
      "cell_type": "markdown",
      "metadata": {
        "id": "idnOhJfk4JVe"
      },
      "source": [
        "### Plotting Actual and Precicted value"
      ]
    },
    {
      "cell_type": "code",
      "metadata": {
        "colab": {
          "base_uri": "https://localhost:8080/",
          "height": 295
        },
        "id": "EPmGA6k55gVU",
        "outputId": "818f8f99-db72-4f7b-afdc-adcdfd3b0964"
      },
      "source": [
        "Plt.scatter(Xtrain,Ytrain, color  =\"red\", marker=\"+\")\n",
        "Plt.plot(Xtrain,My_Data_M.predict(Xtrain), color=\"Green\")\n",
        "Plt.xlabel(\"No of Hrs\")\n",
        "Plt.ylabel(\"Score\")\n",
        "Plt.title(\"Scatter Plot\")\n",
        "Plt.show()"
      ],
      "execution_count": null,
      "outputs": [
        {
          "output_type": "display_data",
          "data": {
            "image/png": "[encoded data removed]",
            "text/plain": [
              "<Figure size 432x288 with 1 Axes>"
            ]
          },
          "metadata": {
            "tags": [],
            "needs_background": "light"
          }
        }
      ]
    }
  ]
}