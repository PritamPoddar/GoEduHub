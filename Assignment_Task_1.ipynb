{
  "nbformat": 4,
  "nbformat_minor": 0,
  "metadata": {
    "colab": {
      "name": "Assignment/Task 1",
      "provenance": [],
      "collapsed_sections": []
    },
    "kernelspec": {
      "name": "python3",
      "display_name": "Python 3"
    },
    "language_info": {
      "name": "python"
    }
  },
  "cells": [
    {
      "cell_type": "markdown",
      "metadata": {
        "id": "sa11aPlSYzUs"
      },
      "source": [
        "# Assignment/Task 1"
      ]
    },
    {
      "cell_type": "markdown",
      "metadata": {
        "id": "XPQEqovLZI9m"
      },
      "source": [
        "### Pritam Podder \n",
        "GO_STP_55"
      ]
    },
    {
      "cell_type": "markdown",
      "metadata": {
        "id": "3U2ejzWhY6YQ"
      },
      "source": [
        "## If Condition"
      ]
    },
    {
      "cell_type": "markdown",
      "metadata": {
        "id": "UU7m4k9dZRSy"
      },
      "source": [
        "### 1. We are having 3 list like this\n",
        "\n",
        "Colors = [“Yellow”,”Green”,”White”,”Black”]\n",
        "\n",
        "Fruits=[“Apple”,”Papaya”,”Mango”,”Orange”]\n",
        "\n",
        "Animals=[“Tiger”,”Lion”,”Deer”,”Zebra”]\n",
        "\n",
        "  i. Write a program that asks user to enter a Color/Fruit/Animal name and it should tell which category belongs to , like its is a fruit or color or Animal"
      ]
    },
    {
      "cell_type": "code",
      "metadata": {
        "colab": {
          "base_uri": "https://localhost:8080/"
        },
        "id": "ShKYwP6QZP_5",
        "outputId": "6c80aab4-5d37-4a89-d044-1dbea1720ead"
      },
      "source": [
        "Z = input(\"Enter Your Fav Colour or Fruits or Animals - \")\n",
        "Colors = [\"Yellow\",\"Green\",\"White\",\"Black\"]\n",
        "Fruits = [\"Apple\",\"Papaya\",\"Mango\",\"Orange\"]\n",
        "Animals = [\"Tiger\",\"Lion\",\"Deer\",\"Zebra\"]\n",
        "if Z in Colors:\n",
        "  print(\"Its a Colors\") \n",
        "elif Z in Fruits:\n",
        "  print(\"Its a Fruits\")\n",
        "elif Z in Animals:\n",
        "  print(\"Its a Animals\")\n",
        "else:\n",
        "  print(\"Not Belong from List\")"
      ],
      "execution_count": null,
      "outputs": [
        {
          "output_type": "stream",
          "text": [
            "Enter Your Fav Colour or Fruits or Animals - Blue\n",
            "Not Belong from List\n"
          ],
          "name": "stdout"
        }
      ]
    },
    {
      "cell_type": "markdown",
      "metadata": {
        "id": "2dINrlJ7cI6I"
      },
      "source": [
        "ii. Write a program that asks user to enter two cities and it tells you if they both are in same country or not. For example if I enter yellow and Black, it will print \"Both are colors\" but if I enter yellow and Tiger it should print \"They don't belong to same category\""
      ]
    },
    {
      "cell_type": "code",
      "metadata": {
        "colab": {
          "base_uri": "https://localhost:8080/"
        },
        "id": "D3vjRANBb_3b",
        "outputId": "0508b404-7cf9-4991-efd1-22f44e50451c"
      },
      "source": [
        "print(\"You Need to Ans Given Qustions\")\n",
        "Z = input(\"Enter Your Fav Colour or Fruits or Animals -\")\n",
        "Y = input(\"Enter Your Fav Colour or Fruits or Animals -\")\n",
        "Colors = [\"Yellow\",\"Green\",\"White\",\"Black\"]\n",
        "Fruits = [\"Apple\",\"Papaya\",\"Mango\",\"Orange\"]\n",
        "Animals = [\"Tiger\",\"Lion\",\"Deer\",\"Zebra\"]\n",
        "if Z in Colors and Y in Colors:\n",
        "  print(\"Both are colors\")\n",
        "elif Z in Fruits and Y in Fruits:\n",
        "  print(\"Both are Fruits\")\n",
        "elif Z in Animals and Y in Animals:\n",
        "  print(\"Both are Animals\")\n",
        "else:\n",
        "  print(\"They don't belong to same category\")"
      ],
      "execution_count": null,
      "outputs": [
        {
          "output_type": "stream",
          "text": [
            "You Need to Ans Given Qustions\n",
            "Enter Your Fav Colour or Fruits or Animals -Orange\n",
            "Enter Your Fav Colour or Fruits or Animals -Yellow\n",
            "They don't belong to same category\n"
          ],
          "name": "stdout"
        }
      ]
    },
    {
      "cell_type": "markdown",
      "metadata": {
        "id": "Zk71EDs_fNwz"
      },
      "source": [
        "2.  Write a python program that can tell you if your grade score good or not . Good Score range is 40 to 60.\n",
        "\n",
        "  i. Ask user to enter his score.\n",
        "\n",
        "  ii. If it is below 40 to 60 range then print that score is low\n",
        "\n",
        "  iii. If it is above 60 then print that it is good otherwise print that it is normal"
      ]
    },
    {
      "cell_type": "code",
      "metadata": {
        "colab": {
          "base_uri": "https://localhost:8080/"
        },
        "id": "Zb3IwwhNeETS",
        "outputId": "65997268-1f77-4100-e40a-f6d09eccef84"
      },
      "source": [
        "print(\"Know Your Grade\")\n",
        "A = int(input(\"Enter Your Marks - \"))\n",
        "if A > 60 and A < 100:\n",
        "  print(\"Your Score is \",A,\" ,its Very Good Marks\")\n",
        "elif A > 40 and A < 60:\n",
        "  print(\"Your Score is \",A,\" ,its Good Marks\")\n",
        "elif A < 40:\n",
        "  print(\"Your Score is \",A,\" ,its Normal\")"
      ],
      "execution_count": null,
      "outputs": [
        {
          "output_type": "stream",
          "text": [
            "Know Your Grade\n",
            "Enter Your Marks - 35\n",
            "Your Score is  35  ,its Normal\n"
          ],
          "name": "stdout"
        }
      ]
    },
    {
      "cell_type": "markdown",
      "metadata": {
        "id": "0C2F9Knah84m"
      },
      "source": [
        "##Loop"
      ]
    },
    {
      "cell_type": "markdown",
      "metadata": {
        "id": "HDSvAT98jMcO"
      },
      "source": [
        "3.  After appearing in exam 10 times you got this result,\n",
        "\n",
        "result = [\"Pass\",\"Fail\",\"Fail\",\"Pass\",\"Fail\",\"Pass\",\"Pass\",\"Fail\",\"Fail\",\"Fail\"]\n",
        "\n",
        "Using for loop figure out how many times you got Pass"
      ]
    },
    {
      "cell_type": "code",
      "metadata": {
        "colab": {
          "base_uri": "https://localhost:8080/"
        },
        "id": "xH26vCGIh4l5",
        "outputId": "34d94a26-ca55-4840-a68b-51ddbc991602"
      },
      "source": [
        "A = input(\"Pass Or Fail-\")\n",
        "X = 0\n",
        "result = [\"Pass\",\"Fail\",\"Fail\",\"Pass\",\"Fail\",\"Pass\",\"Pass\",\"Fail\",\"Fail\",\"Fail\"]\n",
        "for I in result:\n",
        "  if I == A:\n",
        "    X = X+1\n",
        "print(\"Number of time he got pass-\",X)"
      ],
      "execution_count": null,
      "outputs": [
        {
          "output_type": "stream",
          "text": [
            "Pass Or Fail-Pass\n",
            "Number of time he got pass- 4\n"
          ],
          "name": "stdout"
        }
      ]
    },
    {
      "cell_type": "markdown",
      "metadata": {
        "id": "6sVTbKHl0I3X"
      },
      "source": [
        "### 4.  Write a program that prints following shape\n",
        "\n",
        "####*\n",
        "\n",
        "####* *\n",
        "\n",
        "####* * *\n",
        "\n",
        "####* * * *\n",
        "\n",
        "####* * * * *\n",
        "\n",
        "##### * * * *\n",
        "\n",
        "#### * * *\n",
        "\n",
        "#### * *\n",
        "\n",
        "#### *"
      ]
    },
    {
      "cell_type": "code",
      "metadata": {
        "colab": {
          "base_uri": "https://localhost:8080/"
        },
        "id": "tfy3K-L3zw2N",
        "outputId": "e6f5792d-dcfc-4cce-9f83-145bc8f4d706"
      },
      "source": [
        "# Star Pattern\n",
        "R = int(input(\"Enter Number of Rows - \"))\n",
        "for I in range(0,R):\n",
        "  for J in range(I):\n",
        "    print(\"*\", end = \"\")\n",
        "  print()\n",
        "for I in range(R,0,-1):\n",
        "  for J in range(I):\n",
        "    print(\"*\",end =\"\")\n",
        "  print()"
      ],
      "execution_count": null,
      "outputs": [
        {
          "output_type": "stream",
          "text": [
            "Enter Number of Rows - 5\n",
            "\n",
            "*\n",
            "**\n",
            "***\n",
            "****\n",
            "*****\n",
            "****\n",
            "***\n",
            "**\n",
            "*\n"
          ],
          "name": "stdout"
        }
      ]
    },
    {
      "cell_type": "markdown",
      "metadata": {
        "id": "RxsPkt7Y2Vvu"
      },
      "source": [
        "### 5.   Lets say you are running a 50 km race. Write a program that,\n",
        "\n",
        "Upon completing each 10 km asks you \"are you tired?\"\n",
        "If you reply \"yes\" then it should break and print \"you didn't finish the race\"\n",
        " If you reply \"no\" then it should continue and ask \"are you tired\" on every km\n",
        "If you finish all 50 km then it should print congratulations message"
      ]
    },
    {
      "cell_type": "code",
      "metadata": {
        "colab": {
          "base_uri": "https://localhost:8080/"
        },
        "id": "ZSJffsx02fHA",
        "outputId": "cd8246bd-f062-42dc-d36c-1c08f636112f"
      },
      "source": [
        "print(\"Give Reply to the following Qustions to know your result\")\n",
        "for I in range(0,51):\n",
        "  if I < 50 and I % 10 == 0:\n",
        "    print(\"After completing 10Km, Are you tired\")\n",
        "    X = input(\"Enter(Yes/No) - \")\n",
        "    if X == \"Yes\":\n",
        "      print(\"You didn't finish the race\")\n",
        "      break\n",
        "    elif X == \"No\":\n",
        "      continue\n",
        "    else:\n",
        "      print(\"Invalid Input\")\n",
        "  if I == 50:\n",
        "    print(\"congratulations\")"
      ],
      "execution_count": null,
      "outputs": [
        {
          "output_type": "stream",
          "text": [
            "Give Reply to the following Qustions to know your result\n",
            "After completing 10Km, Are you tired\n",
            "Enter(Yes/No) - No\n",
            "After completing 10Km, Are you tired\n",
            "Enter(Yes/No) - No\n",
            "After completing 10Km, Are you tired\n",
            "Enter(Yes/No) - No\n",
            "After completing 10Km, Are you tired\n",
            "Enter(Yes/No) - Yes\n",
            "You didn't finish the race\n"
          ],
          "name": "stdout"
        }
      ]
    },
    {
      "cell_type": "markdown",
      "metadata": {
        "id": "RyO1p1Fr-YYm"
      },
      "source": [
        "6.  Write a Python program to find those numbers which are divisible by 7 and multiple of 5, between 1500 and 2700 (both included)."
      ]
    },
    {
      "cell_type": "code",
      "metadata": {
        "colab": {
          "base_uri": "https://localhost:8080/"
        },
        "id": "ZrDn5Cmq8qqn",
        "outputId": "7f89791c-afa2-4dbc-a63d-6b3ac91f80f7"
      },
      "source": [
        "for I in range(1500,2700):\n",
        "  if I % 7 == 0 and I % 7 == 0:\n",
        "    print(I,end=\" \")"
      ],
      "execution_count": null,
      "outputs": [
        {
          "output_type": "stream",
          "text": [
            "1505 1512 1519 1526 1533 1540 1547 1554 1561 1568 1575 1582 1589 1596 1603 1610 1617 1624 1631 1638 1645 1652 1659 1666 1673 1680 1687 1694 1701 1708 1715 1722 1729 1736 1743 1750 1757 1764 1771 1778 1785 1792 1799 1806 1813 1820 1827 1834 1841 1848 1855 1862 1869 1876 1883 1890 1897 1904 1911 1918 1925 1932 1939 1946 1953 1960 1967 1974 1981 1988 1995 2002 2009 2016 2023 2030 2037 2044 2051 2058 2065 2072 2079 2086 2093 2100 2107 2114 2121 2128 2135 2142 2149 2156 2163 2170 2177 2184 2191 2198 2205 2212 2219 2226 2233 2240 2247 2254 2261 2268 2275 2282 2289 2296 2303 2310 2317 2324 2331 2338 2345 2352 2359 2366 2373 2380 2387 2394 2401 2408 2415 2422 2429 2436 2443 2450 2457 2464 2471 2478 2485 2492 2499 2506 2513 2520 2527 2534 2541 2548 2555 2562 2569 2576 2583 2590 2597 2604 2611 2618 2625 2632 2639 2646 2653 2660 2667 2674 2681 2688 2695 "
          ],
          "name": "stdout"
        }
      ]
    },
    {
      "cell_type": "markdown",
      "metadata": {
        "id": "Es9F8-0zBXjZ"
      },
      "source": [
        "7.   Print square of all numbers between 10 to 20 except even numbers"
      ]
    },
    {
      "cell_type": "code",
      "metadata": {
        "colab": {
          "base_uri": "https://localhost:8080/"
        },
        "id": "vOkHUnlKBSjW",
        "outputId": "c874654e-f865-44cd-9bd3-2af9d2bd7e53"
      },
      "source": [
        "for I in range(10,21):\n",
        "  if I % 2 == 1 :\n",
        "    print(I)"
      ],
      "execution_count": null,
      "outputs": [
        {
          "output_type": "stream",
          "text": [
            "11\n",
            "13\n",
            "15\n",
            "17\n",
            "19\n"
          ],
          "name": "stdout"
        }
      ]
    },
    {
      "cell_type": "markdown",
      "metadata": {
        "id": "XqmdgJvUC70Y"
      },
      "source": [
        "###8.  Your Marks for five Test(test1 to test5) looks like this,\n",
        "\n",
        "### marks_list = [65, 75, 2100, 95, 83]\n",
        "Write a program that asks you to enter marks and program should tell you in which test that marks occurred. If marks is not found then it should print that as well."
      ]
    },
    {
      "cell_type": "code",
      "metadata": {
        "colab": {
          "base_uri": "https://localhost:8080/"
        },
        "id": "y4BvJcbXDBpH",
        "outputId": "1e8c084e-963b-4784-b719-707e69cf60d0"
      },
      "source": [
        "X = int(input(\"Enter Your Marks - \"))\n",
        "M = [65, 75, 2100, 95, 83]\n",
        "if X in M:\n",
        "    print(\"Test No-\", M.index(X)+1 ,\"and your marks is -\",X)\n",
        "else:\n",
        "  print(\"Invalid Input\")"
      ],
      "execution_count": null,
      "outputs": [
        {
          "output_type": "stream",
          "text": [
            "Enter Your Marks - 83\n",
            "Test No- 5 and your marks is - 83\n"
          ],
          "name": "stdout"
        }
      ]
    }
  ]
}